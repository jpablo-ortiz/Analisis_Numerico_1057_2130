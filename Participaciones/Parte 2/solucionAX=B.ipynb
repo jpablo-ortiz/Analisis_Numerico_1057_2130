{
 "cells": [
  {
   "cell_type": "code",
   "execution_count": 18,
   "source": [
    "import sympy as sy\r\n",
    "import matplotlib.pyplot as plt\r\n",
    "import time\r\n",
    "sy.init_printing()"
   ],
   "outputs": [],
   "metadata": {}
  },
  {
   "cell_type": "markdown",
   "source": [
    "# Exploración"
   ],
   "metadata": {}
  },
  {
   "cell_type": "markdown",
   "source": [
    "## Creación y visualización matríz"
   ],
   "metadata": {}
  },
  {
   "cell_type": "code",
   "execution_count": 19,
   "source": [
    "A = sy.Matrix([[1,3,1], [1,1,1], [2, 3, 2]])\r\n",
    "A.norm()"
   ],
   "outputs": [
    {
     "output_type": "execute_result",
     "data": {
      "text/latex": [
       "$\\displaystyle \\sqrt{31}$"
      ],
      "image/png": "[encoded data removed]",
      "text/plain": [
       "√31"
      ]
     },
     "metadata": {},
     "execution_count": 19
    }
   ],
   "metadata": {}
  },
  {
   "cell_type": "code",
   "execution_count": 20,
   "source": [
    "b = sy.Matrix([3,2,1])\r\n",
    "b"
   ],
   "outputs": [
    {
     "output_type": "execute_result",
     "data": {
      "text/latex": [
       "$\\displaystyle \\left[\\begin{matrix}3\\\\2\\\\1\\end{matrix}\\right]$"
      ],
      "text/plain": [
       "⎡3⎤\n",
       "⎢ ⎥\n",
       "⎢2⎥\n",
       "⎢ ⎥\n",
       "⎣1⎦"
      ]
     },
     "metadata": {},
     "execution_count": 20
    }
   ],
   "metadata": {}
  },
  {
   "cell_type": "markdown",
   "source": [
    "## Función rref()\r\n",
    "1. (Matríz reducida) Forma escalonada de fila reducida de la matríz M\r\n",
    "2. (Índices columnas de pivote) Tupla de índice de las columnas pivote\r\n"
   ],
   "metadata": {}
  },
  {
   "cell_type": "code",
   "execution_count": 21,
   "source": [
    "reduce_A = A.rref()\r\n",
    "reduce_A"
   ],
   "outputs": [
    {
     "output_type": "execute_result",
     "data": {
      "text/latex": [
       "$\\displaystyle \\left( \\left[\\begin{matrix}1 & 0 & 1\\\\0 & 1 & 0\\\\0 & 0 & 0\\end{matrix}\\right], \\  \\left( 0, \\  1\\right)\\right)$"
      ],
      "text/plain": [
       "⎛⎡1  0  1⎤        ⎞\n",
       "⎜⎢       ⎥        ⎟\n",
       "⎜⎢0  1  0⎥, (0, 1)⎟\n",
       "⎜⎢       ⎥        ⎟\n",
       "⎝⎣0  0  0⎦        ⎠"
      ]
     },
     "metadata": {},
     "execution_count": 21
    }
   ],
   "metadata": {}
  },
  {
   "cell_type": "markdown",
   "source": [
    "## Solución del sistema de ecuaciones Ax = b con la ayuda de la función LUsolve"
   ],
   "metadata": {}
  },
  {
   "cell_type": "code",
   "execution_count": 22,
   "source": [
    "x = A.LUsolve(b)\r\n",
    "x"
   ],
   "outputs": [
    {
     "output_type": "error",
     "ename": "NonInvertibleMatrixError",
     "evalue": "Matrix det == 0; not invertible.",
     "traceback": [
      "\u001b[1;31m---------------------------------------------------------------------------\u001b[0m",
      "\u001b[1;31mValueError\u001b[0m                                Traceback (most recent call last)",
      "\u001b[1;32m~\\AppData\\Local\\Programs\\Python\\Python39\\lib\\site-packages\\sympy\\matrices\\solvers.py\u001b[0m in \u001b[0;36m_LUsolve\u001b[1;34m(M, rhs, iszerofunc)\u001b[0m\n\u001b[0;32m    339\u001b[0m     \u001b[1;32mtry\u001b[0m\u001b[1;33m:\u001b[0m\u001b[1;33m\u001b[0m\u001b[1;33m\u001b[0m\u001b[0m\n\u001b[1;32m--> 340\u001b[1;33m         A, perm = M.LUdecomposition_Simple(\n\u001b[0m\u001b[0;32m    341\u001b[0m             iszerofunc=_iszero, rankcheck=True)\n",
      "\u001b[1;32m~\\AppData\\Local\\Programs\\Python\\Python39\\lib\\site-packages\\sympy\\matrices\\matrices.py\u001b[0m in \u001b[0;36mLUdecomposition_Simple\u001b[1;34m(self, iszerofunc, simpfunc, rankcheck)\u001b[0m\n\u001b[0;32m   2122\u001b[0m             rankcheck=False):\n\u001b[1;32m-> 2123\u001b[1;33m         return _LUdecomposition_Simple(self, iszerofunc=iszerofunc,\n\u001b[0m\u001b[0;32m   2124\u001b[0m                 simpfunc=simpfunc, rankcheck=rankcheck)\n",
      "\u001b[1;32m~\\AppData\\Local\\Programs\\Python\\Python39\\lib\\site-packages\\sympy\\matrices\\decompositions.py\u001b[0m in \u001b[0;36m_LUdecomposition_Simple\u001b[1;34m(M, iszerofunc, simpfunc, rankcheck)\u001b[0m\n\u001b[0;32m   1057\u001b[0m                 lu[Min(lu.rows, lu.cols) - 1, Min(lu.rows, lu.cols) - 1]):\n\u001b[1;32m-> 1058\u001b[1;33m             raise ValueError(\"Rank of matrix is strictly less than\"\n\u001b[0m\u001b[0;32m   1059\u001b[0m                                 \u001b[1;34m\" number of rows or columns.\"\u001b[0m\u001b[1;33m\u001b[0m\u001b[1;33m\u001b[0m\u001b[0m\n",
      "\u001b[1;31mValueError\u001b[0m: Rank of matrix is strictly less than number of rows or columns. Pass keyword argument rankcheck=False to compute the LU decomposition of this matrix.",
      "\nDuring handling of the above exception, another exception occurred:\n",
      "\u001b[1;31mNonInvertibleMatrixError\u001b[0m                  Traceback (most recent call last)",
      "\u001b[1;32m~\\AppData\\Local\\Temp/ipykernel_3680/1920448548.py\u001b[0m in \u001b[0;36m<module>\u001b[1;34m\u001b[0m\n\u001b[1;32m----> 1\u001b[1;33m \u001b[0mx\u001b[0m \u001b[1;33m=\u001b[0m \u001b[0mA\u001b[0m\u001b[1;33m.\u001b[0m\u001b[0mLUsolve\u001b[0m\u001b[1;33m(\u001b[0m\u001b[0mb\u001b[0m\u001b[1;33m)\u001b[0m\u001b[1;33m\u001b[0m\u001b[1;33m\u001b[0m\u001b[0m\n\u001b[0m\u001b[0;32m      2\u001b[0m \u001b[0mx\u001b[0m\u001b[1;33m\u001b[0m\u001b[1;33m\u001b[0m\u001b[0m\n",
      "\u001b[1;32m~\\AppData\\Local\\Programs\\Python\\Python39\\lib\\site-packages\\sympy\\matrices\\matrices.py\u001b[0m in \u001b[0;36mLUsolve\u001b[1;34m(self, rhs, iszerofunc)\u001b[0m\n\u001b[0;32m   2152\u001b[0m \u001b[1;33m\u001b[0m\u001b[0m\n\u001b[0;32m   2153\u001b[0m     \u001b[1;32mdef\u001b[0m \u001b[0mLUsolve\u001b[0m\u001b[1;33m(\u001b[0m\u001b[0mself\u001b[0m\u001b[1;33m,\u001b[0m \u001b[0mrhs\u001b[0m\u001b[1;33m,\u001b[0m \u001b[0miszerofunc\u001b[0m\u001b[1;33m=\u001b[0m\u001b[0m_iszero\u001b[0m\u001b[1;33m)\u001b[0m\u001b[1;33m:\u001b[0m\u001b[1;33m\u001b[0m\u001b[1;33m\u001b[0m\u001b[0m\n\u001b[1;32m-> 2154\u001b[1;33m         \u001b[1;32mreturn\u001b[0m \u001b[0m_LUsolve\u001b[0m\u001b[1;33m(\u001b[0m\u001b[0mself\u001b[0m\u001b[1;33m,\u001b[0m \u001b[0mrhs\u001b[0m\u001b[1;33m,\u001b[0m \u001b[0miszerofunc\u001b[0m\u001b[1;33m=\u001b[0m\u001b[0miszerofunc\u001b[0m\u001b[1;33m)\u001b[0m\u001b[1;33m\u001b[0m\u001b[1;33m\u001b[0m\u001b[0m\n\u001b[0m\u001b[0;32m   2155\u001b[0m \u001b[1;33m\u001b[0m\u001b[0m\n\u001b[0;32m   2156\u001b[0m     \u001b[1;32mdef\u001b[0m \u001b[0mQRsolve\u001b[0m\u001b[1;33m(\u001b[0m\u001b[0mself\u001b[0m\u001b[1;33m,\u001b[0m \u001b[0mb\u001b[0m\u001b[1;33m)\u001b[0m\u001b[1;33m:\u001b[0m\u001b[1;33m\u001b[0m\u001b[1;33m\u001b[0m\u001b[0m\n",
      "\u001b[1;32m~\\AppData\\Local\\Programs\\Python\\Python39\\lib\\site-packages\\sympy\\matrices\\solvers.py\u001b[0m in \u001b[0;36m_LUsolve\u001b[1;34m(M, rhs, iszerofunc)\u001b[0m\n\u001b[0;32m    341\u001b[0m             iszerofunc=_iszero, rankcheck=True)\n\u001b[0;32m    342\u001b[0m     \u001b[1;32mexcept\u001b[0m \u001b[0mValueError\u001b[0m\u001b[1;33m:\u001b[0m\u001b[1;33m\u001b[0m\u001b[1;33m\u001b[0m\u001b[0m\n\u001b[1;32m--> 343\u001b[1;33m         \u001b[1;32mraise\u001b[0m \u001b[0mNonInvertibleMatrixError\u001b[0m\u001b[1;33m(\u001b[0m\u001b[1;34m\"Matrix det == 0; not invertible.\"\u001b[0m\u001b[1;33m)\u001b[0m\u001b[1;33m\u001b[0m\u001b[1;33m\u001b[0m\u001b[0m\n\u001b[0m\u001b[0;32m    344\u001b[0m \u001b[1;33m\u001b[0m\u001b[0m\n\u001b[0;32m    345\u001b[0m     \u001b[0mdps\u001b[0m \u001b[1;33m=\u001b[0m \u001b[0m_get_intermediate_simp\u001b[0m\u001b[1;33m(\u001b[0m\u001b[1;33m)\u001b[0m\u001b[1;33m\u001b[0m\u001b[1;33m\u001b[0m\u001b[0m\n",
      "\u001b[1;31mNonInvertibleMatrixError\u001b[0m: Matrix det == 0; not invertible."
     ]
    }
   ],
   "metadata": {}
  },
  {
   "cell_type": "markdown",
   "source": [
    "- Verificación de la solución A*x = b. \r\n",
    "- El resultado debe darnos nuevamente la matrix b."
   ],
   "metadata": {}
  },
  {
   "cell_type": "code",
   "execution_count": null,
   "source": [
    "A@x # Verificación de la solución "
   ],
   "outputs": [],
   "metadata": {}
  },
  {
   "cell_type": "markdown",
   "source": [
    "## Esta parte nos dará el valor y su multiplicidad algebráica"
   ],
   "metadata": {}
  },
  {
   "cell_type": "code",
   "execution_count": null,
   "source": [
    "A.eigenvals()"
   ],
   "outputs": [],
   "metadata": {}
  },
  {
   "cell_type": "markdown",
   "source": [
    "##  Esta parte nos dará los valores propios, multiplicidades y vectores propios correspondientes"
   ],
   "metadata": {}
  },
  {
   "cell_type": "code",
   "execution_count": null,
   "source": [
    "A.eigenvects()"
   ],
   "outputs": [],
   "metadata": {}
  },
  {
   "cell_type": "markdown",
   "source": [
    "# IMPLEMENTACIÓN"
   ],
   "metadata": {}
  },
  {
   "cell_type": "code",
   "execution_count": null,
   "source": [
    "def solv(A, b):\r\n",
    "    x = A.LUsolve(b)\r\n",
    "    return x"
   ],
   "outputs": [],
   "metadata": {}
  },
  {
   "cell_type": "code",
   "execution_count": null,
   "source": [
    "def tiempo(A, b):\r\n",
    "    start = time.time()\r\n",
    "    solv(A, b)\r\n",
    "    end = time.time()\r\n",
    "    return end - start"
   ],
   "outputs": [],
   "metadata": {}
  },
  {
   "cell_type": "markdown",
   "source": [
    "## Resultado ejemplo matriz dimensión 3x3"
   ],
   "metadata": {}
  },
  {
   "cell_type": "code",
   "execution_count": null,
   "source": [
    "A = sy.Matrix([[1,3, sy.Rational(5,6)], [1,3,1], [sy.Rational(3/2), 3, 2]])\r\n",
    "b = sy.Matrix([3,2,1])\r\n",
    "print(\"Dimension: \", A.shape, \"Tiempo: \", tiempo(A, b), \"s\")\r\n",
    "\r\n",
    "solv(A,b)"
   ],
   "outputs": [],
   "metadata": {}
  },
  {
   "cell_type": "markdown",
   "source": [
    "## Comparación tiempos dada ciertas dimensiones"
   ],
   "metadata": {}
  },
  {
   "cell_type": "code",
   "execution_count": null,
   "source": [
    "def obtenerDimensionesPotencia(base, cantidadDimensiones):\r\n",
    "    dimensiones = []\r\n",
    "    for i in range(1, cantidadDimensiones):\r\n",
    "        dimensiones.append(base**i)\r\n",
    "    return dimensiones\r\n",
    "\r\n",
    "def obtenerDimensionesLineal(inicio, fin, steps: int):\r\n",
    "    dimensiones = []\r\n",
    "    for i in range(inicio, fin, steps):\r\n",
    "        dimensiones.append(i)\r\n",
    "    return dimensiones"
   ],
   "outputs": [],
   "metadata": {}
  },
  {
   "cell_type": "code",
   "execution_count": null,
   "source": [
    "# Obtenemos las dimensiones de la matriz de forma potencial\r\n",
    "# dimensiones = obtenerDimensionesPotencia(2, 7)\r\n",
    "\r\n",
    "# Obtenemos las dimensiones de la matriz de forma lineal con pasos de a x pasos\r\n",
    "xPasos = 2\r\n",
    "dimensiones = obtenerDimensionesLineal(2, 100, xPasos)\r\n",
    "\r\n",
    "# Inicializamos matrices aleatorias para A y b\r\n",
    "A = [sy.randMatrix(dim, dim, 1) for dim in dimensiones]\r\n",
    "b = [sy.randMatrix(dim, 1, 1) for dim in dimensiones]\r\n",
    "\r\n",
    "dimensiones"
   ],
   "outputs": [],
   "metadata": {}
  },
  {
   "cell_type": "markdown",
   "source": [
    "### Ejemplo de la primera matriz aleatoria A y b"
   ],
   "metadata": {}
  },
  {
   "cell_type": "code",
   "execution_count": null,
   "source": [
    "(A[0], b[0])"
   ],
   "outputs": [],
   "metadata": {}
  },
  {
   "cell_type": "markdown",
   "source": [
    "### Ejemplo de la segunda matriz aleatoria A y b"
   ],
   "metadata": {}
  },
  {
   "cell_type": "code",
   "execution_count": null,
   "source": [
    "(A[1], b[1])"
   ],
   "outputs": [],
   "metadata": {}
  },
  {
   "cell_type": "markdown",
   "source": [
    "### Ejemplo de la quinta matriz aleatoria A y b"
   ],
   "metadata": {}
  },
  {
   "cell_type": "code",
   "execution_count": null,
   "source": [
    "(A[4], b[4])"
   ],
   "outputs": [],
   "metadata": {}
  },
  {
   "cell_type": "markdown",
   "source": [
    "### Dimensiones y tiempo de solución en segundos y graficación de tiempo vs dimensiones"
   ],
   "metadata": {}
  },
  {
   "cell_type": "code",
   "execution_count": 17,
   "source": [
    "resultados = []\r\n",
    "for i in range(len(dimensiones)):\r\n",
    "    resultados.append(tiempo(A[i], b[i]))\r\n",
    "    print(\"Dimension: \", dimensiones[i], \" Tiempo: \", resultados[i], \"s\")\r\n",
    "\r\n",
    "plt.xlabel(\"Dimensiones\")\r\n",
    "plt.ylabel(\"Tiempo (s)\")\r\n",
    "plt.plot(dimensiones, resultados)"
   ],
   "outputs": [
    {
     "output_type": "stream",
     "name": "stdout",
     "text": [
      "Dimension:  70  Tiempo:  9.56111764907837 s\n",
      "Dimension:  72  Tiempo:  11.773967981338501 s\n",
      "Dimension:  74  Tiempo:  11.900057077407837 s\n",
      "Dimension:  76  Tiempo:  14.152865171432495 s\n",
      "Dimension:  78  Tiempo:  15.894174337387085 s\n",
      "Dimension:  80  Tiempo:  17.999770164489746 s\n",
      "Dimension:  82  Tiempo:  16.51367497444153 s\n",
      "Dimension:  84  Tiempo:  16.412895441055298 s\n",
      "Dimension:  86  Tiempo:  18.872260093688965 s\n",
      "Dimension:  88  Tiempo:  17.20766568183899 s\n",
      "Dimension:  90  Tiempo:  20.89058804512024 s\n",
      "Dimension:  92  Tiempo:  23.728819131851196 s\n",
      "Dimension:  94  Tiempo:  21.955105304718018 s\n",
      "Dimension:  96  Tiempo:  21.46184492111206 s\n",
      "Dimension:  98  Tiempo:  22.544835567474365 s\n"
     ]
    },
    {
     "output_type": "execute_result",
     "data": {
      "text/plain": [
       "[<matplotlib.lines.Line2D at 0x1fbcc419280>]"
      ]
     },
     "metadata": {},
     "execution_count": 17
    },
    {
     "output_type": "display_data",
     "data": {
      "image/png": "[encoded data removed]",
      "text/plain": [
       "<Figure size 432x288 with 1 Axes>"
      ]
     },
     "metadata": {
      "needs_background": "light"
     }
    }
   ],
   "metadata": {}
  }
 ],
 "metadata": {
  "orig_nbformat": 4,
  "language_info": {
   "name": "python",
   "version": "3.9.4",
   "mimetype": "text/x-python",
   "codemirror_mode": {
    "name": "ipython",
    "version": 3
   },
   "pygments_lexer": "ipython3",
   "nbconvert_exporter": "python",
   "file_extension": ".py"
  },
  "kernelspec": {
   "name": "python3",
   "display_name": "Python 3.9.4 64-bit"
  },
  "interpreter": {
   "hash": "7bfa93c4e636a5a625379eff0a239c64974d99f59f76c96838852984426a1d79"
  }
 },
 "nbformat": 4,
 "nbformat_minor": 2
}