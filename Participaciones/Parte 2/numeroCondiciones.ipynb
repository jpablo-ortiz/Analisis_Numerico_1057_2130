{
 "cells": [
  {
   "cell_type": "code",
   "execution_count": 1,
   "metadata": {},
   "outputs": [],
   "source": [
    "import sympy as sy\n",
    "import matplotlib.pyplot as plt\n",
    "from numpy import *\n",
    "\n",
    "from decimal import Decimal as D\n",
    "from decimal import getcontext"
   ]
  },
  {
   "cell_type": "code",
   "execution_count": 2,
   "metadata": {},
   "outputs": [],
   "source": [
    "def configuracionEpPr(tolerancia):\n",
    "    \"\"\"Recibe una lista de tolerancias para definir la precision que se va a usar en el programa\n",
    "\n",
    "    Args:\n",
    "        tolerancia (List): Lista de tolerancias a utilizar\n",
    "    \"\"\"\n",
    "    max = 0\n",
    "    for tol in tolerancia:\n",
    "        if int(abs(math.log10(tol))) > max:\n",
    "            max = int(abs(math.log10(tol)))\n",
    "\n",
    "    getcontext().prec = max + 1 + 50  # tolerancia + 50 decimales de precision extra\n",
    "\n",
    "def cantiDecimales(tolerancia):\n",
    "    \"\"\"Recibe una lista de tolerancias para devolver la cantidad de decimales que se utilizará en el programa\n",
    "\n",
    "    Args:\n",
    "        tolerancia (List): Lista de tolerancias a utilizar\n",
    "    \"\"\"\n",
    "    max = 0\n",
    "    for tol in tolerancia:\n",
    "        if int(abs(math.log10(tol))) > max:\n",
    "            max = int(abs(math.log10(tol)))\n",
    "\n",
    "    return max + 1 + 50  # tolerancia + 50 decimales de precision extra\n",
    "\n",
    "def printNumTOL(numero, tolerancia, cantidadExtraDecimales=2):\n",
    "    \"\"\"Imprime correctamente el número, dada la tolerancia más cierta cantidad de decimales extra\n",
    "\n",
    "    Args:\n",
    "        numero (number): El número a mostrar\n",
    "        tolerancia (number): La tolerancia del número ingresado\n",
    "        cantidadExtraDecimales (int, optional): cantidad de decimales extra. Defaults to 2.\n",
    "    \"\"\"\n",
    "    try:\n",
    "        decimalesAObservar = int(abs(math.log10(tolerancia))) + 1 + cantidadExtraDecimales  # Mostrar 2 decimales más de la tolerancia\n",
    "        cantiDecimales = \"{:.\" + str(decimalesAObservar) + \"f}\"\n",
    "        print(cantiDecimales.format(numero))\n",
    "    except TypeError:\n",
    "        if numero == 0:\n",
    "            print(numero)\n",
    "\n",
    "def numTOL(numero, tolerancia, cantidadExtraDecimales=2):\n",
    "    \"\"\"Retorna correctamente el número, dada la tolerancia más cierta cantidad de decimales extra\n",
    "\n",
    "    Args:\n",
    "        numero (number): El número a mostrar\n",
    "        tolerancia (number): La tolerancia del número ingresado\n",
    "        cantidadExtraDecimales (int, optional): cantidad de decimales extra. Defaults to 2.\n",
    "    \"\"\"\n",
    "    try:\n",
    "        decimalesAObservar = int(abs(math.log10(tolerancia))) + 1 + cantidadExtraDecimales  # Mostrar 2 decimales más de la tolerancia\n",
    "        cantiDecimales = \"{:.\" + str(decimalesAObservar) + \"f}\"\n",
    "        return cantiDecimales.format(numero)\n",
    "    except TypeError:\n",
    "        if numero == 0:\n",
    "            return numero"
   ]
  },
  {
   "cell_type": "code",
   "execution_count": 3,
   "metadata": {},
   "outputs": [],
   "source": [
    "configuracionEpPr([1e-20])\n",
    "\n",
    "def arrayToMatrix(A):\n",
    "    return sy.Matrix(A)"
   ]
  },
  {
   "cell_type": "markdown",
   "metadata": {},
   "source": [
    "# Creación de la matriz a"
   ]
  },
  {
   "cell_type": "code",
   "execution_count": 4,
   "metadata": {},
   "outputs": [
    {
     "data": {
      "text/latex": [
       "$\\displaystyle \\left[\\begin{matrix}1 & 0.5 & 0.333333333333333\\\\0.5 & 0.333333333333333 & 0.25\\\\0.333333333333333 & 0.25 & 0.2\\end{matrix}\\right]$"
      ],
      "text/plain": [
       "Matrix([\n",
       "[                1,               0.5, 0.333333333333333],\n",
       "[              0.5, 0.333333333333333,              0.25],\n",
       "[0.333333333333333,              0.25,               0.2]])"
      ]
     },
     "execution_count": 4,
     "metadata": {},
     "output_type": "execute_result"
    }
   ],
   "source": [
    "#a = sy.Matrix(\n",
    "#    [[2.6, 0.3, 2.4, 6.2], \n",
    "#    [7.7, 0.4, 4.7, 1.4], \n",
    "#    [5.1, 9.9, 9.5, 1.5], \n",
    "#    [6.0, 7.0, 8.5, 4.8]])\n",
    "\n",
    "# a = sy.Matrix([[4, 5], [4.1, 5]])\n",
    "\n",
    "a = sy.Matrix([\n",
    "    [1, 1/2, 1/3], \n",
    "    [1/2, 1/3, 1/4],\n",
    "    [1/3, 1/4, 1/5]])\n",
    "    \n",
    "constantes = sy.Matrix([[10], [20], [30]])\n",
    "a"
   ]
  },
  {
   "cell_type": "markdown",
   "metadata": {},
   "source": [
    "# Norma de a\n",
    "## $ \\left \\| A \\right \\| $"
   ]
  },
  {
   "cell_type": "code",
   "execution_count": 5,
   "metadata": {},
   "outputs": [
    {
     "ename": "NameError",
     "evalue": "name 'np' is not defined",
     "output_type": "error",
     "traceback": [
      "\u001b[1;31m---------------------------------------------------------------------------\u001b[0m",
      "\u001b[1;31mNameError\u001b[0m                                 Traceback (most recent call last)",
      "\u001b[1;32m~\\AppData\\Local\\Temp/ipykernel_23844/818288100.py\u001b[0m in \u001b[0;36m<module>\u001b[1;34m\u001b[0m\n\u001b[1;32m----> 1\u001b[1;33m \u001b[0mn\u001b[0m \u001b[1;33m=\u001b[0m \u001b[0ma\u001b[0m\u001b[1;33m.\u001b[0m\u001b[0mnorm\u001b[0m\u001b[1;33m(\u001b[0m\u001b[0mnp\u001b[0m\u001b[1;33m.\u001b[0m\u001b[0minf\u001b[0m\u001b[1;33m)\u001b[0m\u001b[1;33m\u001b[0m\u001b[1;33m\u001b[0m\u001b[0m\n\u001b[0m\u001b[0;32m      2\u001b[0m \u001b[0mn\u001b[0m\u001b[1;33m\u001b[0m\u001b[1;33m\u001b[0m\u001b[0m\n",
      "\u001b[1;31mNameError\u001b[0m: name 'np' is not defined"
     ]
    }
   ],
   "source": [
    "n = a.norm(inf)\n",
    "n"
   ]
  },
  {
   "cell_type": "markdown",
   "metadata": {},
   "source": [
    "# Inversa de a\n",
    "## $ A^{-1} $"
   ]
  },
  {
   "cell_type": "code",
   "execution_count": null,
   "metadata": {},
   "outputs": [
    {
     "data": {
      "text/latex": [
       "$\\displaystyle \\left[\\begin{matrix}9.00000000000003 & -36.0000000000002 & 30.0000000000002\\\\-36.0000000000002 & 192.000000000001 & -180.000000000001\\\\30.0000000000002 & -180.000000000001 & 180.000000000001\\end{matrix}\\right]$"
      ],
      "text/plain": [
       "Matrix([\n",
       "[ 9.00000000000003, -36.0000000000002,  30.0000000000002],\n",
       "[-36.0000000000002,  192.000000000001, -180.000000000001],\n",
       "[ 30.0000000000002, -180.000000000001,  180.000000000001]])"
      ]
     },
     "execution_count": 73,
     "metadata": {},
     "output_type": "execute_result"
    }
   ],
   "source": [
    "i = a.inv()\n",
    "i"
   ]
  },
  {
   "cell_type": "markdown",
   "metadata": {},
   "source": [
    "# Número de condición de a\n",
    "## *El número de condiciones se usa basicamente para poder cuantificar el nivel de mal condicionamiento.*"
   ]
  },
  {
   "cell_type": "code",
   "execution_count": null,
   "metadata": {},
   "outputs": [
    {
     "data": {
      "text/latex": [
       "$\\displaystyle 524.05677758558$"
      ],
      "text/plain": [
       "524.056777585580"
      ]
     },
     "execution_count": 74,
     "metadata": {},
     "output_type": "execute_result"
    }
   ],
   "source": [
    "c = a.condition_number()\n",
    "c"
   ]
  },
  {
   "cell_type": "markdown",
   "metadata": {},
   "source": [
    "## La definición  del número de condición se puede ver de la siguiente forma:\n",
    "## $  cond(a)=\\left \\| A \\right \\| \\left \\| A^{-1} \\right \\|  $"
   ]
  },
  {
   "cell_type": "code",
   "execution_count": null,
   "metadata": {},
   "outputs": [
    {
     "data": {
      "text/latex": [
       "$\\displaystyle 526.158821079722$"
      ],
      "text/plain": [
       "526.158821079722"
      ]
     },
     "execution_count": 75,
     "metadata": {},
     "output_type": "execute_result"
    }
   ],
   "source": [
    "c = a.norm()*i.norm()\n",
    "c"
   ]
  },
  {
   "cell_type": "code",
   "execution_count": null,
   "metadata": {},
   "outputs": [
    {
     "data": {
      "text/latex": [
       "$\\displaystyle \\left[\\begin{matrix}270.000000000002\\\\-1920.00000000001\\\\2100.00000000001\\end{matrix}\\right]$"
      ],
      "text/plain": [
       "Matrix([\n",
       "[ 270.000000000002],\n",
       "[-1920.00000000001],\n",
       "[ 2100.00000000001]])"
      ]
     },
     "execution_count": 76,
     "metadata": {},
     "output_type": "execute_result"
    }
   ],
   "source": [
    "solve = a.LUsolve(constantes)\n",
    "solve"
   ]
  },
  {
   "cell_type": "code",
   "execution_count": null,
   "metadata": {},
   "outputs": [
    {
     "data": {
      "text/latex": [
       "$\\displaystyle 0.000462962962962957$"
      ],
      "text/plain": [
       "0.000462962962962957"
      ]
     },
     "execution_count": 77,
     "metadata": {},
     "output_type": "execute_result"
    }
   ],
   "source": [
    "det = a.det()\n",
    "det"
   ]
  }
 ],
 "metadata": {
  "interpreter": {
   "hash": "7bfa93c4e636a5a625379eff0a239c64974d99f59f76c96838852984426a1d79"
  },
  "kernelspec": {
   "display_name": "Python 3.9.4 64-bit",
   "name": "python3"
  },
  "language_info": {
   "codemirror_mode": {
    "name": "ipython",
    "version": 3
   },
   "file_extension": ".py",
   "mimetype": "text/x-python",
   "name": "python",
   "nbconvert_exporter": "python",
   "pygments_lexer": "ipython3",
   "version": "3.9.4"
  },
  "orig_nbformat": 4
 },
 "nbformat": 4,
 "nbformat_minor": 2
}
