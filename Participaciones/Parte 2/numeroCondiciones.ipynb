{
 "cells": [
  {
   "cell_type": "code",
   "execution_count": 1,
   "source": [
    "import sympy as sy\r\n",
    "import matplotlib.pyplot as plt\r\n",
    "from numpy import *\r\n",
    "\r\n",
    "from decimal import Decimal as D\r\n",
    "from decimal import getcontext"
   ],
   "outputs": [],
   "metadata": {}
  },
  {
   "cell_type": "code",
   "execution_count": 2,
   "source": [
    "def configuracionEpPr(tolerancia):\r\n",
    "    \"\"\"Recibe una lista de tolerancias para definir la precision que se va a usar en el programa\r\n",
    "\r\n",
    "    Args:\r\n",
    "        tolerancia (List): Lista de tolerancias a utilizar\r\n",
    "    \"\"\"\r\n",
    "    max = 0\r\n",
    "    for tol in tolerancia:\r\n",
    "        if int(abs(math.log10(tol))) > max:\r\n",
    "            max = int(abs(math.log10(tol)))\r\n",
    "\r\n",
    "    getcontext().prec = max + 1 + 50  # tolerancia + 50 decimales de precision extra\r\n",
    "\r\n",
    "def cantiDecimales(tolerancia):\r\n",
    "    \"\"\"Recibe una lista de tolerancias para devolver la cantidad de decimales que se utilizará en el programa\r\n",
    "\r\n",
    "    Args:\r\n",
    "        tolerancia (List): Lista de tolerancias a utilizar\r\n",
    "    \"\"\"\r\n",
    "    max = 0\r\n",
    "    for tol in tolerancia:\r\n",
    "        if int(abs(math.log10(tol))) > max:\r\n",
    "            max = int(abs(math.log10(tol)))\r\n",
    "\r\n",
    "    return max + 1 + 50  # tolerancia + 50 decimales de precision extra\r\n",
    "\r\n",
    "def printNumTOL(numero, tolerancia, cantidadExtraDecimales=2):\r\n",
    "    \"\"\"Imprime correctamente el número, dada la tolerancia más cierta cantidad de decimales extra\r\n",
    "\r\n",
    "    Args:\r\n",
    "        numero (number): El número a mostrar\r\n",
    "        tolerancia (number): La tolerancia del número ingresado\r\n",
    "        cantidadExtraDecimales (int, optional): cantidad de decimales extra. Defaults to 2.\r\n",
    "    \"\"\"\r\n",
    "    try:\r\n",
    "        decimalesAObservar = int(abs(math.log10(tolerancia))) + 1 + cantidadExtraDecimales  # Mostrar 2 decimales más de la tolerancia\r\n",
    "        cantiDecimales = \"{:.\" + str(decimalesAObservar) + \"f}\"\r\n",
    "        print(cantiDecimales.format(numero))\r\n",
    "    except TypeError:\r\n",
    "        if numero == 0:\r\n",
    "            print(numero)\r\n",
    "\r\n",
    "def numTOL(numero, tolerancia, cantidadExtraDecimales=2):\r\n",
    "    \"\"\"Retorna correctamente el número, dada la tolerancia más cierta cantidad de decimales extra\r\n",
    "\r\n",
    "    Args:\r\n",
    "        numero (number): El número a mostrar\r\n",
    "        tolerancia (number): La tolerancia del número ingresado\r\n",
    "        cantidadExtraDecimales (int, optional): cantidad de decimales extra. Defaults to 2.\r\n",
    "    \"\"\"\r\n",
    "    try:\r\n",
    "        decimalesAObservar = int(abs(math.log10(tolerancia))) + 1 + cantidadExtraDecimales  # Mostrar 2 decimales más de la tolerancia\r\n",
    "        cantiDecimales = \"{:.\" + str(decimalesAObservar) + \"f}\"\r\n",
    "        return cantiDecimales.format(numero)\r\n",
    "    except TypeError:\r\n",
    "        if numero == 0:\r\n",
    "            return numero"
   ],
   "outputs": [],
   "metadata": {}
  },
  {
   "cell_type": "code",
   "execution_count": 3,
   "source": [
    "configuracionEpPr([1e-20])\r\n",
    "\r\n",
    "def arrayToMatrix(A):\r\n",
    "    return sy.Matrix(A)"
   ],
   "outputs": [],
   "metadata": {}
  },
  {
   "cell_type": "markdown",
   "source": [
    "# Creación de la matriz a"
   ],
   "metadata": {}
  },
  {
   "cell_type": "code",
   "execution_count": 4,
   "source": [
    "#a = sy.Matrix(\r\n",
    "#    [[2.6, 0.3, 2.4, 6.2], \r\n",
    "#    [7.7, 0.4, 4.7, 1.4], \r\n",
    "#    [5.1, 9.9, 9.5, 1.5], \r\n",
    "#    [6.0, 7.0, 8.5, 4.8]])\r\n",
    "\r\n",
    "# a = sy.Matrix([[4, 5], [4.1, 5]])\r\n",
    "\r\n",
    "a = sy.Matrix([\r\n",
    "    [1, 1/2, 1/3], \r\n",
    "    [1/2, 1/3, 1/4],\r\n",
    "    [1/3, 1/4, 1/5]])\r\n",
    "    \r\n",
    "constantes = sy.Matrix([[10], [20], [30]])\r\n",
    "a"
   ],
   "outputs": [
    {
     "output_type": "execute_result",
     "data": {
      "text/latex": [
       "$\\displaystyle \\left[\\begin{matrix}1 & 0.5 & 0.333333333333333\\\\0.5 & 0.333333333333333 & 0.25\\\\0.333333333333333 & 0.25 & 0.2\\end{matrix}\\right]$"
      ],
      "text/plain": [
       "Matrix([\n",
       "[                1,               0.5, 0.333333333333333],\n",
       "[              0.5, 0.333333333333333,              0.25],\n",
       "[0.333333333333333,              0.25,               0.2]])"
      ]
     },
     "metadata": {},
     "execution_count": 4
    }
   ],
   "metadata": {}
  },
  {
   "cell_type": "markdown",
   "source": [
    "# Norma de a\r\n",
    "## $ \\left \\| A \\right \\| $"
   ],
   "metadata": {}
  },
  {
   "cell_type": "code",
   "execution_count": 5,
   "source": [
    "n = a.norm(inf)\r\n",
    "n"
   ],
   "outputs": [
    {
     "output_type": "error",
     "ename": "NameError",
     "evalue": "name 'np' is not defined",
     "traceback": [
      "\u001b[1;31m---------------------------------------------------------------------------\u001b[0m",
      "\u001b[1;31mNameError\u001b[0m                                 Traceback (most recent call last)",
      "\u001b[1;32m~\\AppData\\Local\\Temp/ipykernel_23844/818288100.py\u001b[0m in \u001b[0;36m<module>\u001b[1;34m\u001b[0m\n\u001b[1;32m----> 1\u001b[1;33m \u001b[0mn\u001b[0m \u001b[1;33m=\u001b[0m \u001b[0ma\u001b[0m\u001b[1;33m.\u001b[0m\u001b[0mnorm\u001b[0m\u001b[1;33m(\u001b[0m\u001b[0mnp\u001b[0m\u001b[1;33m.\u001b[0m\u001b[0minf\u001b[0m\u001b[1;33m)\u001b[0m\u001b[1;33m\u001b[0m\u001b[1;33m\u001b[0m\u001b[0m\n\u001b[0m\u001b[0;32m      2\u001b[0m \u001b[0mn\u001b[0m\u001b[1;33m\u001b[0m\u001b[1;33m\u001b[0m\u001b[0m\n",
      "\u001b[1;31mNameError\u001b[0m: name 'np' is not defined"
     ]
    }
   ],
   "metadata": {}
  },
  {
   "cell_type": "markdown",
   "source": [
    "# Inversa de a\r\n",
    "## $ A^{-1} $"
   ],
   "metadata": {}
  },
  {
   "cell_type": "code",
   "execution_count": null,
   "source": [
    "i = a.inv()\r\n",
    "i"
   ],
   "outputs": [
    {
     "output_type": "execute_result",
     "data": {
      "text/latex": [
       "$\\displaystyle \\left[\\begin{matrix}9.00000000000003 & -36.0000000000002 & 30.0000000000002\\\\-36.0000000000002 & 192.000000000001 & -180.000000000001\\\\30.0000000000002 & -180.000000000001 & 180.000000000001\\end{matrix}\\right]$"
      ],
      "text/plain": [
       "Matrix([\n",
       "[ 9.00000000000003, -36.0000000000002,  30.0000000000002],\n",
       "[-36.0000000000002,  192.000000000001, -180.000000000001],\n",
       "[ 30.0000000000002, -180.000000000001,  180.000000000001]])"
      ]
     },
     "metadata": {},
     "execution_count": 73
    }
   ],
   "metadata": {}
  },
  {
   "cell_type": "markdown",
   "source": [
    "# Número de condición de a\r\n",
    "## *El número de condiciones se usa basicamente para poder cuantificar el nivel de mal condicionamiento.*"
   ],
   "metadata": {}
  },
  {
   "cell_type": "code",
   "execution_count": null,
   "source": [
    "c = a.condition_number()\r\n",
    "c"
   ],
   "outputs": [
    {
     "output_type": "execute_result",
     "data": {
      "text/latex": [
       "$\\displaystyle 524.05677758558$"
      ],
      "text/plain": [
       "524.056777585580"
      ]
     },
     "metadata": {},
     "execution_count": 74
    }
   ],
   "metadata": {}
  },
  {
   "cell_type": "markdown",
   "source": [
    "## La definición  del número de condición se puede ver de la siguiente forma:\r\n",
    "## $  cond(a)=\\left \\| A \\right \\| \\left \\| A^{-1} \\right \\|  $"
   ],
   "metadata": {}
  },
  {
   "cell_type": "code",
   "execution_count": null,
   "source": [
    "c = a.norm()*i.norm()\r\n",
    "c"
   ],
   "outputs": [
    {
     "output_type": "execute_result",
     "data": {
      "text/latex": [
       "$\\displaystyle 526.158821079722$"
      ],
      "text/plain": [
       "526.158821079722"
      ]
     },
     "metadata": {},
     "execution_count": 75
    }
   ],
   "metadata": {}
  },
  {
   "cell_type": "code",
   "execution_count": null,
   "source": [
    "solve = a.LUsolve(constantes)\r\n",
    "solve"
   ],
   "outputs": [
    {
     "output_type": "execute_result",
     "data": {
      "text/latex": [
       "$\\displaystyle \\left[\\begin{matrix}270.000000000002\\\\-1920.00000000001\\\\2100.00000000001\\end{matrix}\\right]$"
      ],
      "text/plain": [
       "Matrix([\n",
       "[ 270.000000000002],\n",
       "[-1920.00000000001],\n",
       "[ 2100.00000000001]])"
      ]
     },
     "metadata": {},
     "execution_count": 76
    }
   ],
   "metadata": {}
  },
  {
   "cell_type": "code",
   "execution_count": null,
   "source": [
    "det = a.det()\r\n",
    "det"
   ],
   "outputs": [
    {
     "output_type": "execute_result",
     "data": {
      "text/latex": [
       "$\\displaystyle 0.000462962962962957$"
      ],
      "text/plain": [
       "0.000462962962962957"
      ]
     },
     "metadata": {},
     "execution_count": 77
    }
   ],
   "metadata": {}
  }
 ],
 "metadata": {
  "orig_nbformat": 4,
  "language_info": {
   "name": "python",
   "version": "3.9.4",
   "mimetype": "text/x-python",
   "codemirror_mode": {
    "name": "ipython",
    "version": 3
   },
   "pygments_lexer": "ipython3",
   "nbconvert_exporter": "python",
   "file_extension": ".py"
  },
  "kernelspec": {
   "name": "python3",
   "display_name": "Python 3.9.4 64-bit"
  },
  "interpreter": {
   "hash": "7bfa93c4e636a5a625379eff0a239c64974d99f59f76c96838852984426a1d79"
  }
 },
 "nbformat": 4,
 "nbformat_minor": 2
}