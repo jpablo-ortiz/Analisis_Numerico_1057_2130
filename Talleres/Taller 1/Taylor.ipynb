{
 "cells": [
  {
   "cell_type": "markdown",
   "source": [
    "<h1>\r\n",
    "2.1 - Aproximación\r\n",
    "</h1>"
   ],
   "metadata": {}
  },
  {
   "cell_type": "markdown",
   "source": [
    "<h3>\r\n",
    "Uso del algoritmo de Taylor\r\n",
    "</h3>"
   ],
   "metadata": {}
  },
  {
   "cell_type": "code",
   "execution_count": 13,
   "source": [
    "from sympy import series, Symbol\r\n",
    "from sympy.functions import sin, cos, exp\r\n",
    "from sympy.plotting import plot\r\n",
    "import matplotlib.pyplot as plt\r\n",
    "\r\n",
    "# plt.rcParams['figure.figsize'] = 13,10\r\n",
    "# plt.rcParams['lines.linewidth'] = 2\r\n",
    "\r\n",
    "# Define symbol\r\n",
    "x = Symbol('x')"
   ],
   "outputs": [],
   "metadata": {}
  },
  {
   "cell_type": "code",
   "execution_count": 14,
   "source": [
    "def graficar(polinomios, funcionReal):\r\n",
    "    p = plot(*polinomios, funcionReal, (x, -1.0, 1.0), show=False, legend=True)\r\n",
    "    p[-1].line_color = 'r'\r\n",
    "    p.title = 'Taylor'\r\n",
    "    p.show()\r\n"
   ],
   "outputs": [],
   "metadata": {}
  },
  {
   "cell_type": "code",
   "execution_count": 15,
   "source": [
    "def taylor(function, x0, n):\r\n",
    "    \"\"\"\r\n",
    "    El parámetro \"function\" es nuestra función que queremos aplicar taylor\r\n",
    "    \"x0\" es el punto donde aproximar\r\n",
    "    \"n\" es el orden de aproximación\r\n",
    "    \"\"\"\r\n",
    "    return function.series(x, x0, n).removeO()\r\n",
    "\r\n",
    "def graficarTaylor(function, x0, n):\r\n",
    "    polinomioHistory = []\r\n",
    "    for i in range(1, n + 1):\r\n",
    "        polinomioHistory.append(taylor(function, x0, i))\r\n",
    "    graficar(polinomioHistory, function)\r\n"
   ],
   "outputs": [],
   "metadata": {}
  },
  {
   "cell_type": "code",
   "execution_count": 16,
   "source": [
    "function = 1/(1-x)\r\n",
    "print('1/(1-x) =', taylor(function, 0, 5))\r\n",
    "\r\n",
    "graficarTaylor(function, 0, 5)"
   ],
   "outputs": [
    {
     "output_type": "stream",
     "name": "stdout",
     "text": [
      "sin(x) = x**4 + x**3 + x**2 + x + 1\n"
     ]
    },
    {
     "output_type": "display_data",
     "data": {
      "text/plain": [
       "<Figure size 432x288 with 1 Axes>"
      ],
      "image/png": "[encoded data removed]"
     },
     "metadata": {
      "needs_background": "light"
     }
    }
   ],
   "metadata": {}
  }
 ],
 "metadata": {
  "kernelspec": {
   "name": "python3",
   "display_name": "Python 3.9.4 64-bit"
  },
  "language_info": {
   "codemirror_mode": {
    "name": "ipython",
    "version": 3
   },
   "file_extension": ".py",
   "mimetype": "text/x-python",
   "name": "python",
   "nbconvert_exporter": "python",
   "pygments_lexer": "ipython3",
   "version": "3.9.4"
  },
  "interpreter": {
   "hash": "7bfa93c4e636a5a625379eff0a239c64974d99f59f76c96838852984426a1d79"
  }
 },
 "nbformat": 4,
 "nbformat_minor": 5
}