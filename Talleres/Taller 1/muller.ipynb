{
 "cells": [
  {
   "cell_type": "code",
   "execution_count": 419,
   "source": [
    "import math\r\n",
    "from decimal import Decimal as D\r\n",
    "from decimal import getcontext\r\n",
    "import matplotlib.pyplot as plt"
   ],
   "outputs": [],
   "metadata": {}
  },
  {
   "cell_type": "code",
   "execution_count": 420,
   "source": [
    "\r\n",
    "def configuracionEpPr(tolerancia):\r\n",
    "    \"\"\"Recibe una lista de tolerancias para definir la precision que se va a usar en el programa\r\n",
    "\r\n",
    "    Args:\r\n",
    "        tolerancia (List): Lista de tolerancias a utilizar\r\n",
    "    \"\"\"\r\n",
    "    max = 0\r\n",
    "    for tol in tolerancia:\r\n",
    "        if int(abs(math.log10(tol))) > max:\r\n",
    "            max = int(abs(math.log10(tol)))\r\n",
    "\r\n",
    "    getcontext().prec = max + 1 + 50  # tolerancia + 50 decimales de precision extra\r\n",
    "\r\n",
    "\r\n",
    "def printNumTOL(numero, tolerancia, cantidadExtraDecimales=2):\r\n",
    "    \"\"\"Imprime correctamente el número, dada la tolerancia más cierta cantidad de decimales extra\r\n",
    "\r\n",
    "    Args:\r\n",
    "        numero (number): El número a mostrar\r\n",
    "        tolerancia (number): La tolerancia del número ingresado\r\n",
    "        cantidadExtraDecimales (int, optional): cantidad de decimales extra. Defaults to 2.\r\n",
    "    \"\"\"\r\n",
    "    decimalesAObservar = int(abs(math.log10(tolerancia))) + 1 + cantidadExtraDecimales  # Mostrar 2 decimales más de la tolerancia\r\n",
    "    cantiDecimales = \"{:.\" + str(decimalesAObservar) + \"f}\"\r\n",
    "    print(cantiDecimales.format(numero))\r\n",
    "\r\n",
    "\r\n",
    "def numTOL(numero, tolerancia, cantidadExtraDecimales=2):\r\n",
    "    \"\"\"Retorna correctamente el número, dada la tolerancia más cierta cantidad de decimales extra\r\n",
    "\r\n",
    "    Args:\r\n",
    "        numero (number): El número a mostrar\r\n",
    "        tolerancia (number): La tolerancia del número ingresado\r\n",
    "        cantidadExtraDecimales (int, optional): cantidad de decimales extra. Defaults to 2.\r\n",
    "    \"\"\"\r\n",
    "    decimalesAObservar = int(abs(math.log10(tolerancia))) + 1 + cantidadExtraDecimales  # Mostrar 2 decimales más de la tolerancia\r\n",
    "    cantiDecimales = \"{:.\" + str(decimalesAObservar) + \"f}\"\r\n",
    "    return cantiDecimales.format(numero)\r\n"
   ],
   "outputs": [],
   "metadata": {}
  },
  {
   "cell_type": "code",
   "execution_count": 421,
   "source": [
    "\r\n",
    "def a_fx(x):\r\n",
    "    return (D(math.cos(D(x))) ** D(2)) - (D(x) ** D(2))\r\n",
    "\r\n",
    "\r\n",
    "def b_fx(x):\r\n",
    "    #if -1 <= x <= 2:  # en [-1,2]\r\n",
    "    return (D(x) * D(math.sin(D(x)))) - D(1)\r\n",
    "\r\n",
    "\r\n",
    "def c_fx(x):\r\n",
    "    return (D(x)**D(3)) - ((D(2)*D(x))**D(2)) + ((D(4)/D(3))*D(x)) - (D(8)/D(27))\r\n",
    "\r\n",
    "\r\n",
    "def d_fx(x):\r\n",
    "    return ((D(68.1)*D(9.81))/D(x))*(D(1)-D(math.e)**(-(D(10)/D(68.1))*D(x)))-D(40)\r\n",
    "\r\n",
    "\r\n",
    "def e_fx(x):\r\n",
    "    return (D(1) * pow(D(x), D(3)) - (D(2)*D(x)) - D(5))  # = 0\r\n",
    "\r\n",
    "\r\n",
    "def f_fx(x):\r\n",
    "    return (D(math.e) ** - D(x)) - D(x)"
   ],
   "outputs": [],
   "metadata": {}
  },
  {
   "cell_type": "code",
   "execution_count": 422,
   "source": [
    "def regulaFalsiSinIteracion(x0, x1, fx):\r\n",
    "    fx0 = fx(x0)\r\n",
    "    fx1 = fx(x1)\r\n",
    "\r\n",
    "    x2 = D(x1) - ((fx1)/(fx1 - fx0) * (D(x1) - D(x0)))\r\n",
    "    return x2\r\n",
    "\r\n",
    "def BiseccionSinIteracion(x0, x1, fx):\r\n",
    "    x2 = (x0 + x1) / 2\r\n",
    "    return x2"
   ],
   "outputs": [],
   "metadata": {}
  },
  {
   "cell_type": "code",
   "execution_count": 423,
   "source": [
    "def muller(x0, x1, fx, E):\r\n",
    "    # Verificar el intervalo con Teorema de Bolzano\r\n",
    "    if fx(x0) * fx(x1) > 0:\r\n",
    "        print(\"El intervalo dado no es válido\")\r\n",
    "        return \"ninguno\", 0\r\n",
    "    else:\r\n",
    "        # Pasos para obtener el x2\r\n",
    "        x2 = regulaFalsiSinIteracion(x0, x1, fx)\r\n",
    "\r\n",
    "        verificacion = D(1)\r\n",
    "        iteracion = 0\r\n",
    "        polinomioHistory = []\r\n",
    "        # Verificar si es correcto\r\n",
    "        while(abs(verificacion) > D(E)):\r\n",
    "\r\n",
    "            # Pasos previos para hallar el x3\r\n",
    "            h0 = D(x1)-D(x0)\r\n",
    "            h1 = x2 - D(x1)\r\n",
    "\r\n",
    "            d0 = (fx(x1) - fx(x0)) / h0\r\n",
    "            d1 = (fx(x2) - fx(x1)) / h1\r\n",
    "\r\n",
    "            # Pasos para obtener el valor de las constantes\r\n",
    "            a = (d1 - d0)/(h1 - h0)\r\n",
    "            b = a*h1 + d1\r\n",
    "            c = fx(x2)\r\n",
    "\r\n",
    "            # Pasos para hallar el x3\r\n",
    "            signo = D(-1) if b < D(0) else D(1)\r\n",
    "            verificacion = ((D(-2) * c)/(b + (signo * D(math.sqrt((b ** D(2)) - (D(4) * a * c))))))\r\n",
    "            final_x = x2 + verificacion\r\n",
    "\r\n",
    "            polinomioHistory.append(final_x)\r\n",
    "            # Reasignar valores\r\n",
    "            iteracion += 1\r\n",
    "\r\n",
    "            x0 = x1\r\n",
    "            x1 = x2\r\n",
    "            x2 = final_x\r\n",
    "\r\n",
    "    return numTOL(final_x, E), iteracion\r\n",
    "\r\n",
    "def graficar(polinomios, funcionReal, x):\r\n",
    "    plt.plot(x, y, '-', color='red')\r\n",
    "\r\n",
    "    p = plot(*polinomios, funcionReal, (x, -3, 3), show=False)\r\n",
    "    p[-1].line_color = 'r'\r\n",
    "    p.show()"
   ],
   "outputs": [],
   "metadata": {}
  },
  {
   "cell_type": "code",
   "execution_count": 424,
   "source": [
    "TOL = [10e-8, 10e-16, 10e-32, 10e-56]\r\n",
    "\r\n",
    "configuracionEpPr(TOL)\r\n",
    "\r\n",
    "for tolerancia in TOL:\r\n",
    "    resultado = muller(0, 1.5, b_fx, tolerancia)\r\n",
    "    print(\"El resultado de la raíz es: \" + str(resultado[0]) + \" con \" + str(resultado[1]) + \" iteraciones\")\r\n"
   ],
   "outputs": [
    {
     "output_type": "stream",
     "name": "stdout",
     "text": [
      "El resultado de la raíz es: 1.1141571409 con 4 iteraciones\n",
      "El resultado de la raíz es: 1.114157140871930060 con 6 iteraciones\n"
     ]
    },
    {
     "output_type": "error",
     "ename": "ValueError",
     "evalue": "math domain error",
     "traceback": [
      "\u001b[1;31m---------------------------------------------------------------------------\u001b[0m",
      "\u001b[1;31mValueError\u001b[0m                                Traceback (most recent call last)",
      "\u001b[1;32mC:\\Users\\LOMITO~1\\AppData\\Local\\Temp/ipykernel_20120/568512308.py\u001b[0m in \u001b[0;36m<module>\u001b[1;34m\u001b[0m\n\u001b[0;32m      4\u001b[0m \u001b[1;33m\u001b[0m\u001b[0m\n\u001b[0;32m      5\u001b[0m \u001b[1;32mfor\u001b[0m \u001b[0mtolerancia\u001b[0m \u001b[1;32min\u001b[0m \u001b[0mTOL\u001b[0m\u001b[1;33m:\u001b[0m\u001b[1;33m\u001b[0m\u001b[1;33m\u001b[0m\u001b[0m\n\u001b[1;32m----> 6\u001b[1;33m     \u001b[0mresultado\u001b[0m \u001b[1;33m=\u001b[0m \u001b[0mmuller\u001b[0m\u001b[1;33m(\u001b[0m\u001b[1;36m0\u001b[0m\u001b[1;33m,\u001b[0m \u001b[1;36m1.5\u001b[0m\u001b[1;33m,\u001b[0m \u001b[0mb_fx\u001b[0m\u001b[1;33m,\u001b[0m \u001b[0mtolerancia\u001b[0m\u001b[1;33m)\u001b[0m\u001b[1;33m\u001b[0m\u001b[1;33m\u001b[0m\u001b[0m\n\u001b[0m\u001b[0;32m      7\u001b[0m     \u001b[0mprint\u001b[0m\u001b[1;33m(\u001b[0m\u001b[1;34m\"El resultado de la raíz es: \"\u001b[0m \u001b[1;33m+\u001b[0m \u001b[0mstr\u001b[0m\u001b[1;33m(\u001b[0m\u001b[0mresultado\u001b[0m\u001b[1;33m[\u001b[0m\u001b[1;36m0\u001b[0m\u001b[1;33m]\u001b[0m\u001b[1;33m)\u001b[0m \u001b[1;33m+\u001b[0m \u001b[1;34m\" con \"\u001b[0m \u001b[1;33m+\u001b[0m \u001b[0mstr\u001b[0m\u001b[1;33m(\u001b[0m\u001b[0mresultado\u001b[0m\u001b[1;33m[\u001b[0m\u001b[1;36m1\u001b[0m\u001b[1;33m]\u001b[0m\u001b[1;33m)\u001b[0m \u001b[1;33m+\u001b[0m \u001b[1;34m\" iteraciones\"\u001b[0m\u001b[1;33m)\u001b[0m\u001b[1;33m\u001b[0m\u001b[1;33m\u001b[0m\u001b[0m\n",
      "\u001b[1;32mC:\\Users\\LOMITO~1\\AppData\\Local\\Temp/ipykernel_20120/2146953059.py\u001b[0m in \u001b[0;36mmuller\u001b[1;34m(x0, x1, fx, E)\u001b[0m\n\u001b[0;32m     28\u001b[0m             \u001b[1;31m# Pasos para hallar el x3\u001b[0m\u001b[1;33m\u001b[0m\u001b[1;33m\u001b[0m\u001b[1;33m\u001b[0m\u001b[0m\n\u001b[0;32m     29\u001b[0m             \u001b[0msigno\u001b[0m \u001b[1;33m=\u001b[0m \u001b[0mD\u001b[0m\u001b[1;33m(\u001b[0m\u001b[1;33m-\u001b[0m\u001b[1;36m1\u001b[0m\u001b[1;33m)\u001b[0m \u001b[1;32mif\u001b[0m \u001b[0mb\u001b[0m \u001b[1;33m<\u001b[0m \u001b[0mD\u001b[0m\u001b[1;33m(\u001b[0m\u001b[1;36m0\u001b[0m\u001b[1;33m)\u001b[0m \u001b[1;32melse\u001b[0m \u001b[0mD\u001b[0m\u001b[1;33m(\u001b[0m\u001b[1;36m1\u001b[0m\u001b[1;33m)\u001b[0m\u001b[1;33m\u001b[0m\u001b[1;33m\u001b[0m\u001b[0m\n\u001b[1;32m---> 30\u001b[1;33m             \u001b[0mverificacion\u001b[0m \u001b[1;33m=\u001b[0m \u001b[1;33m(\u001b[0m\u001b[1;33m(\u001b[0m\u001b[0mD\u001b[0m\u001b[1;33m(\u001b[0m\u001b[1;33m-\u001b[0m\u001b[1;36m2\u001b[0m\u001b[1;33m)\u001b[0m \u001b[1;33m*\u001b[0m \u001b[0mc\u001b[0m\u001b[1;33m)\u001b[0m\u001b[1;33m/\u001b[0m\u001b[1;33m(\u001b[0m\u001b[0mb\u001b[0m \u001b[1;33m+\u001b[0m \u001b[1;33m(\u001b[0m\u001b[0msigno\u001b[0m \u001b[1;33m*\u001b[0m \u001b[0mD\u001b[0m\u001b[1;33m(\u001b[0m\u001b[0mmath\u001b[0m\u001b[1;33m.\u001b[0m\u001b[0msqrt\u001b[0m\u001b[1;33m(\u001b[0m\u001b[1;33m(\u001b[0m\u001b[0mb\u001b[0m \u001b[1;33m**\u001b[0m \u001b[0mD\u001b[0m\u001b[1;33m(\u001b[0m\u001b[1;36m2\u001b[0m\u001b[1;33m)\u001b[0m\u001b[1;33m)\u001b[0m \u001b[1;33m-\u001b[0m \u001b[1;33m(\u001b[0m\u001b[0mD\u001b[0m\u001b[1;33m(\u001b[0m\u001b[1;36m4\u001b[0m\u001b[1;33m)\u001b[0m \u001b[1;33m*\u001b[0m \u001b[0ma\u001b[0m \u001b[1;33m*\u001b[0m \u001b[0mc\u001b[0m\u001b[1;33m)\u001b[0m\u001b[1;33m)\u001b[0m\u001b[1;33m)\u001b[0m\u001b[1;33m)\u001b[0m\u001b[1;33m)\u001b[0m\u001b[1;33m)\u001b[0m\u001b[1;33m\u001b[0m\u001b[1;33m\u001b[0m\u001b[0m\n\u001b[0m\u001b[0;32m     31\u001b[0m             \u001b[0mfinal_x\u001b[0m \u001b[1;33m=\u001b[0m \u001b[0mx2\u001b[0m \u001b[1;33m+\u001b[0m \u001b[0mverificacion\u001b[0m\u001b[1;33m\u001b[0m\u001b[1;33m\u001b[0m\u001b[0m\n\u001b[0;32m     32\u001b[0m \u001b[1;33m\u001b[0m\u001b[0m\n",
      "\u001b[1;31mValueError\u001b[0m: math domain error"
     ]
    }
   ],
   "metadata": {}
  }
 ],
 "metadata": {
  "orig_nbformat": 4,
  "language_info": {
   "name": "python",
   "version": "3.9.4",
   "mimetype": "text/x-python",
   "codemirror_mode": {
    "name": "ipython",
    "version": 3
   },
   "pygments_lexer": "ipython3",
   "nbconvert_exporter": "python",
   "file_extension": ".py"
  },
  "kernelspec": {
   "name": "python3",
   "display_name": "Python 3.9.4 64-bit"
  },
  "interpreter": {
   "hash": "7bfa93c4e636a5a625379eff0a239c64974d99f59f76c96838852984426a1d79"
  }
 },
 "nbformat": 4,
 "nbformat_minor": 2
}