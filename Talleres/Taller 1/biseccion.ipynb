{
 "cells": [
  {
   "cell_type": "code",
   "execution_count": 86,
   "source": [
    "# Funciones necesarias para precision y arreglo problema epsilon\r\n",
    "import math\r\n",
    "from decimal import Decimal as D\r\n",
    "from decimal import getcontext"
   ],
   "outputs": [],
   "metadata": {}
  },
  {
   "cell_type": "code",
   "execution_count": 87,
   "source": [
    "def configuracionEpPr(tolerancia):\r\n",
    "    \"\"\"Recibe una lista de tolerancias para definir la precision que se va a usar en el programa\r\n",
    "\r\n",
    "    Args:\r\n",
    "        tolerancia (List): Lista de tolerancias a utilizar\r\n",
    "    \"\"\"\r\n",
    "    max = 0\r\n",
    "    for tol in tolerancia:\r\n",
    "        if int(abs(math.log10(tol))) > max:\r\n",
    "            max = int(abs(math.log10(tol)))\r\n",
    "\r\n",
    "    getcontext().prec = max + 1 + 50  # tolerancia + 50 decimales de precision extra\r\n",
    "\r\n",
    "\r\n",
    "def printNumTOL(numero, tolerancia, cantidadExtraDecimales=2):\r\n",
    "    \"\"\"Imprime correctamente el número, dada la tolerancia más cierta cantidad de decimales extra\r\n",
    "\r\n",
    "    Args:\r\n",
    "        numero (number): El número a mostrar\r\n",
    "        tolerancia (number): La tolerancia del número ingresado\r\n",
    "        cantidadExtraDecimales (int, optional): cantidad de decimales extra. Defaults to 2.\r\n",
    "    \"\"\"\r\n",
    "    decimalesAObservar = int(abs(math.log10(tolerancia))) + 1 + cantidadExtraDecimales  # Mostrar 2 decimales más de la tolerancia\r\n",
    "    cantiDecimales = \"{:.\" + str(decimalesAObservar) + \"f}\"\r\n",
    "    print(cantiDecimales.format(numero))\r\n",
    "\r\n",
    "\r\n",
    "def numTOL(numero, tolerancia, cantidadExtraDecimales=2):\r\n",
    "    \"\"\"Retorna correctamente el número, dada la tolerancia más cierta cantidad de decimales extra\r\n",
    "\r\n",
    "    Args:\r\n",
    "        numero (number): El número a mostrar\r\n",
    "        tolerancia (number): La tolerancia del número ingresado\r\n",
    "        cantidadExtraDecimales (int, optional): cantidad de decimales extra. Defaults to 2.\r\n",
    "    \"\"\"\r\n",
    "    decimalesAObservar = int(abs(math.log10(tolerancia))) + 1 + cantidadExtraDecimales  # Mostrar 2 decimales más de la tolerancia\r\n",
    "    cantiDecimales = \"{:.\" + str(decimalesAObservar) + \"f}\"\r\n",
    "    return cantiDecimales.format(numero)\r\n"
   ],
   "outputs": [],
   "metadata": {}
  },
  {
   "cell_type": "code",
   "execution_count": 88,
   "source": [
    "def a_fx(x):\r\n",
    "    return (D(math.cos(D(x))) ** D(2)) - (D(x) ** D(2))\r\n",
    "\r\n",
    "\r\n",
    "def b_fx(x):\r\n",
    "    #if -1 <= x <= 2:  # en [-1,2]\r\n",
    "    return (D(x) * D(math.sin(D(x)))) - D(1)\r\n",
    "\r\n",
    "\r\n",
    "def c_fx(x):\r\n",
    "    return (D(x)**D(3)) - ((D(2)*D(x))**D(2)) + ((D(4)/D(3))*D(x)) - (D(8)/D(27))\r\n",
    "\r\n",
    "\r\n",
    "def d_fx(x):\r\n",
    "    return ((D(68.1)*D(9.81))/D(x))*(D(1)-D(math.e)**(-(D(10)/D(68.1))*D(x)))-D(40)\r\n",
    "\r\n",
    "\r\n",
    "def e_fx(x):\r\n",
    "    return (D(1) * pow(D(x), D(3)) - (D(2)*D(x)) - D(5))  # = 0\r\n",
    "\r\n",
    "\r\n",
    "def f_fx(x):\r\n",
    "    return (D(math.e) ** - D(x)) - D(x)"
   ],
   "outputs": [],
   "metadata": {}
  },
  {
   "cell_type": "code",
   "execution_count": 89,
   "source": [
    "def biseccion(x0, x1, fx, E):\r\n",
    "    if(fx(x0)*fx(x1) > D(0)):\r\n",
    "        print(\"El intervalo dado no es válido\")\r\n",
    "        return \"ninguno\", 0\r\n",
    "    else:\r\n",
    "        x2 = (D(x0)+D(x1))/D(2)\r\n",
    "        iteracion = 0\r\n",
    "        while(abs(D(x1)-D(x0)) > D(E)):\r\n",
    "            iteracion += 1\r\n",
    "            x2 = (D(x0)+D(x1))/D(2)\r\n",
    "            if fx(x2) == 0:\r\n",
    "                return numTOL(x2, E), iteracion\r\n",
    "            elif(fx(x0)*fx(x2) < 0):\r\n",
    "                x1 = x2\r\n",
    "            else:\r\n",
    "                x0 = x2\r\n",
    "        return numTOL(x2, E), iteracion"
   ],
   "outputs": [],
   "metadata": {}
  },
  {
   "cell_type": "code",
   "execution_count": 90,
   "source": [
    "TOL = [10e-8, 10e-16, 10e-32, 10e-56]\r\n",
    "\r\n",
    "configuracionEpPr(TOL)\r\n",
    "\r\n",
    "for tolerancia in TOL:\r\n",
    "    resultado = biseccion(0, 1, a_fx, tolerancia)\r\n",
    "    print(\"El resultado de la raíz es: \" + str(resultado[0]) + \" con \" + str(resultado[1]) + \" iteraciones\")\r\n"
   ],
   "outputs": [
    {
     "output_type": "stream",
     "name": "stdout",
     "text": [
      "El intervalo dado no es válido\n",
      "El resultado de la raíz es: ninguno con 0 iteraciones\n",
      "El intervalo dado no es válido\n",
      "El resultado de la raíz es: ninguno con 0 iteraciones\n",
      "El intervalo dado no es válido\n",
      "El resultado de la raíz es: ninguno con 0 iteraciones\n",
      "El intervalo dado no es válido\n",
      "El resultado de la raíz es: ninguno con 0 iteraciones\n"
     ]
    }
   ],
   "metadata": {}
  }
 ],
 "metadata": {
  "orig_nbformat": 4,
  "language_info": {
   "name": "python",
   "version": "3.9.4",
   "mimetype": "text/x-python",
   "codemirror_mode": {
    "name": "ipython",
    "version": 3
   },
   "pygments_lexer": "ipython3",
   "nbconvert_exporter": "python",
   "file_extension": ".py"
  },
  "kernelspec": {
   "name": "python3",
   "display_name": "Python 3.9.4 64-bit"
  },
  "interpreter": {
   "hash": "7bfa93c4e636a5a625379eff0a239c64974d99f59f76c96838852984426a1d79"
  }
 },
 "nbformat": 4,
 "nbformat_minor": 2
}