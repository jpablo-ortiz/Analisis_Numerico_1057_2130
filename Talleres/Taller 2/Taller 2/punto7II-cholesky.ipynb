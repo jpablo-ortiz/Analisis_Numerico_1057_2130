{
 "cells": [
  {
   "cell_type": "code",
   "execution_count": 28,
   "source": [
    "import sympy as sym\r\n",
    "import numpy as np\r\n",
    "import scipy.linalg as sla"
   ],
   "outputs": [],
   "metadata": {}
  },
  {
   "cell_type": "markdown",
   "source": [
    "# Sistemas dados en el primer punto"
   ],
   "metadata": {}
  },
  {
   "cell_type": "code",
   "execution_count": 29,
   "source": [
    "A2 = np.array([[1, -8, -2], [1, 1, 5], [3, -1, 1]])\r\n",
    "b2 = np.array([[1], [4], [-2]])\r\n",
    "\r\n",
    "A3 = np.array([[1, 4, 0], [0, 1, 1], [2, 0, 3]])\r\n",
    "b3 = np.array([[5], [2], [0]])\r\n",
    "\r\n",
    "A4 = np.array([[1, 3, -1], [4, -1, 1], [1, 1, 7]])\r\n",
    "b4 = np.array([[18], [27.34], [16.2]])"
   ],
   "outputs": [],
   "metadata": {}
  },
  {
   "cell_type": "markdown",
   "source": [
    "# Sistema del punto 2"
   ],
   "metadata": {}
  },
  {
   "cell_type": "code",
   "execution_count": 30,
   "source": [
    "A1 = np.array([[4, 3, 0], [3, 4, -1], [0, -1, 4]])\r\n",
    "b1 = np.array([[0.254], [-1.425], [2.978]])"
   ],
   "outputs": [],
   "metadata": {}
  },
  {
   "cell_type": "markdown",
   "source": [
    "# Aclaración de porque los sistemas del punto uno no se les puede aplicar cholesky"
   ],
   "metadata": {}
  },
  {
   "cell_type": "markdown",
   "source": [
    "## Primero imprimimos los valores propios del primer sistema del punto 1\r\n",
    "### Como ejemplo usaremos el primer sistema"
   ],
   "metadata": {}
  },
  {
   "cell_type": "code",
   "execution_count": 31,
   "source": [
    "np.linalg.eigvalsh(A2)"
   ],
   "outputs": [
    {
     "output_type": "execute_result",
     "data": {
      "text/plain": [
       "array([-2.56155281,  1.56155281,  4.        ])"
      ]
     },
     "metadata": {},
     "execution_count": 31
    }
   ],
   "metadata": {}
  },
  {
   "cell_type": "markdown",
   "source": [
    "## Para poder realizar cholesky con la matriz dada, esa matriz A require ser definidio positivo, y para esto todos los valores propios de $  A + A^{T}  $ son positivos."
   ],
   "metadata": {}
  },
  {
   "cell_type": "markdown",
   "source": [
    "## Teniendo en cuenta lo anterior se realizó una pequeña función que nos retorne verdadero en el caso que cumpla con la condición descrita anteriormente, y falso en el caso contrario."
   ],
   "metadata": {}
  },
  {
   "cell_type": "code",
   "execution_count": 32,
   "source": [
    "def verificacion(A):\r\n",
    "    return np.all(np.linalg.eigvals(A+A.transpose()) > 0) # Verificar que A sea definida positiva"
   ],
   "outputs": [],
   "metadata": {}
  },
  {
   "cell_type": "code",
   "execution_count": 33,
   "source": [
    "print(\"La matriz A2 es definida positiva:\", verificacion(A2))\r\n",
    "print(\"La matriz A3 es definida positiva:\", verificacion(A3))\r\n",
    "print(\"La matriz A4 es definida positiva:\", verificacion(A4))"
   ],
   "outputs": [
    {
     "output_type": "stream",
     "name": "stdout",
     "text": [
      "La matriz A2 es definida positiva: False\n",
      "La matriz A3 es definida positiva: False\n",
      "La matriz A4 es definida positiva: False\n"
     ]
    }
   ],
   "metadata": {}
  },
  {
   "cell_type": "markdown",
   "source": [
    "## Como podemos ver los tres sistemas dados en el punto 1 no cumplen la condición de positivo definido.\r\n",
    "\r\n",
    "## Ahora probaremos con la matriz A dada en el punto 2."
   ],
   "metadata": {}
  },
  {
   "cell_type": "code",
   "execution_count": 34,
   "source": [
    "\r\n",
    "print(\"La matriz A1 es definida positiva:\", verificacion(A1))"
   ],
   "outputs": [
    {
     "output_type": "stream",
     "name": "stdout",
     "text": [
      "La matriz A1 es definida positiva: True\n"
     ]
    }
   ],
   "metadata": {}
  },
  {
   "cell_type": "markdown",
   "source": [
    "## La matriz A dada en el segundo punto si cumple con la condición necesaria por lo cual para proseguir con la explicación de cholesky usaremos esta matriz"
   ],
   "metadata": {}
  },
  {
   "cell_type": "markdown",
   "source": [
    "# Método Chloesky y solución del sistema implementación propia"
   ],
   "metadata": {}
  },
  {
   "cell_type": "code",
   "execution_count": 35,
   "source": [
    "def forward_substitution(L, b):\r\n",
    "\r\n",
    "    n = L.shape[0]\r\n",
    "\r\n",
    "    y = np.zeros_like(b, dtype=np.double);\r\n",
    "    \r\n",
    "    y[0] = b[0] / L[0, 0]\r\n",
    "\r\n",
    "    for i in range(1, n):\r\n",
    "        y[i] = (b[i] - np.dot(L[i,:i], y[:i])) / L[i,i]\r\n",
    "        \r\n",
    "    return y"
   ],
   "outputs": [],
   "metadata": {}
  },
  {
   "cell_type": "code",
   "execution_count": 36,
   "source": [
    "def cholesky(A):\r\n",
    "    \r\n",
    "    n = A.shape[0]\r\n",
    "    \r\n",
    "    L = np.zeros((n, n), dtype=np.double)\r\n",
    "    \r\n",
    "    for k in range(n):\r\n",
    "        \r\n",
    "        L[k, k] = np.sqrt(A[k, k] - np.sum(L[k, :] ** 2))\r\n",
    "        \r\n",
    "        L[(k+1):, k] = (A[(k+1):, k] - L[(k+1):, :] @ L[:, k]) / L[k, k]\r\n",
    "    \r\n",
    "    return L"
   ],
   "outputs": [],
   "metadata": {}
  },
  {
   "cell_type": "code",
   "execution_count": 37,
   "source": [
    "L = cholesky(A1)\r\n",
    "sym.Matrix(L)"
   ],
   "outputs": [
    {
     "output_type": "execute_result",
     "data": {
      "text/latex": [
       "$\\displaystyle \\left[\\begin{matrix}2.0 & 0.0 & 0.0\\\\1.5 & 1.3228756555323 & 0.0\\\\0.0 & -0.755928946018454 & 1.8516401995451\\end{matrix}\\right]$"
      ],
      "text/plain": [
       "Matrix([\n",
       "[2.0,                0.0,             0.0],\n",
       "[1.5,    1.3228756555323,             0.0],\n",
       "[0.0, -0.755928946018454, 1.8516401995451]])"
      ]
     },
     "metadata": {},
     "execution_count": 37
    }
   ],
   "metadata": {}
  },
  {
   "cell_type": "markdown",
   "source": [
    "## Más abajo en el proceso realizado con librería numpy y scipy se va a realiz nuevamente cholesky con estas librerias, y al comparar las descomposiciones se observa que dan el mismo resultado.\r\n",
    "\r\n",
    "## Antes de proseguir a esa sección en la cuál también se procederá a dar solución al sistema daremos respuesta a las operaciones necesarias para aplicar el algoritmo.\r\n",
    "\r\n",
    "## Analizando varias implementaciónes de Cholesky junto con esta podemos ver que el algoritmo tiene de complejidad."
   ],
   "metadata": {}
  },
  {
   "cell_type": "markdown",
   "source": [
    "# $$ O(n^{3}/3)  $$"
   ],
   "metadata": {}
  },
  {
   "cell_type": "markdown",
   "source": [
    "## Y si queremos agregar la resolución de los sistemas triangulares se le sumaría $$ 2n^{2}  $$"
   ],
   "metadata": {}
  },
  {
   "cell_type": "markdown",
   "source": [
    "# Método Cholesky y solución del sistema con librería numpy y scipy"
   ],
   "metadata": {}
  },
  {
   "cell_type": "markdown",
   "source": [
    "## Probando función cholesky"
   ],
   "metadata": {}
  },
  {
   "cell_type": "code",
   "execution_count": 38,
   "source": [
    "A = np.array([[1,-2j],[2j,5]])\r\n",
    "sym.Matrix(A)"
   ],
   "outputs": [
    {
     "output_type": "execute_result",
     "data": {
      "text/latex": [
       "$\\displaystyle \\left[\\begin{matrix}1.0 & - 2.0 i\\\\2.0 i & 5.0\\end{matrix}\\right]$"
      ],
      "text/plain": [
       "Matrix([\n",
       "[  1.0, -2.0*I],\n",
       "[2.0*I,    5.0]])"
      ]
     },
     "metadata": {},
     "execution_count": 38
    }
   ],
   "metadata": {}
  },
  {
   "cell_type": "code",
   "execution_count": 39,
   "source": [
    "L = np.linalg.cholesky(A)\r\n",
    "sym.Matrix(L)"
   ],
   "outputs": [
    {
     "output_type": "execute_result",
     "data": {
      "text/latex": [
       "$\\displaystyle \\left[\\begin{matrix}1.0 & 0\\\\2.0 i & 1.0\\end{matrix}\\right]$"
      ],
      "text/plain": [
       "Matrix([\n",
       "[  1.0,   0],\n",
       "[2.0*I, 1.0]])"
      ]
     },
     "metadata": {},
     "execution_count": 39
    }
   ],
   "metadata": {}
  },
  {
   "cell_type": "code",
   "execution_count": 40,
   "source": [
    "res = np.dot(L, L.T.conj()) # Verificar que L * L.H = A\r\n",
    "sym.Matrix(res)"
   ],
   "outputs": [
    {
     "output_type": "execute_result",
     "data": {
      "text/latex": [
       "$\\displaystyle \\left[\\begin{matrix}1.0 & - 2.0 i\\\\2.0 i & 5.0\\end{matrix}\\right]$"
      ],
      "text/plain": [
       "Matrix([\n",
       "[  1.0, -2.0*I],\n",
       "[2.0*I,    5.0]])"
      ]
     },
     "metadata": {},
     "execution_count": 40
    }
   ],
   "metadata": {}
  },
  {
   "cell_type": "markdown",
   "source": [
    "## Uso cholesky solución sistema pedido en el ejercicio del Taller"
   ],
   "metadata": {}
  },
  {
   "cell_type": "code",
   "execution_count": 41,
   "source": [
    "#A = np.array([[36, 30, 18], [30,41,23], [18, 23, 14]])\r\n",
    "#b = np.array([[288], [296], [173]])\r\n",
    "A = A1\r\n",
    "sym.Matrix(A)\r\n"
   ],
   "outputs": [
    {
     "output_type": "execute_result",
     "data": {
      "text/latex": [
       "$\\displaystyle \\left[\\begin{matrix}4 & 3 & 0\\\\3 & 4 & -1\\\\0 & -1 & 4\\end{matrix}\\right]$"
      ],
      "text/plain": [
       "Matrix([\n",
       "[4,  3,  0],\n",
       "[3,  4, -1],\n",
       "[0, -1,  4]])"
      ]
     },
     "metadata": {},
     "execution_count": 41
    }
   ],
   "metadata": {}
  },
  {
   "cell_type": "code",
   "execution_count": 42,
   "source": [
    "b = b1\r\n",
    "sym.Matrix(b)"
   ],
   "outputs": [
    {
     "output_type": "execute_result",
     "data": {
      "text/latex": [
       "$\\displaystyle \\left[\\begin{matrix}0.254\\\\-1.425\\\\2.978\\end{matrix}\\right]$"
      ],
      "text/plain": [
       "Matrix([\n",
       "[ 0.254],\n",
       "[-1.425],\n",
       "[ 2.978]])"
      ]
     },
     "metadata": {},
     "execution_count": 42
    }
   ],
   "metadata": {}
  },
  {
   "cell_type": "markdown",
   "source": [
    "### Cholesky."
   ],
   "metadata": {}
  },
  {
   "cell_type": "code",
   "execution_count": 43,
   "source": [
    "#L = sla.cholesky(A, lower=True)\r\n",
    "L = np.linalg.cholesky(A)\r\n",
    "sym.Matrix(L)"
   ],
   "outputs": [
    {
     "output_type": "execute_result",
     "data": {
      "text/latex": [
       "$\\displaystyle \\left[\\begin{matrix}2.0 & 0.0 & 0.0\\\\1.5 & 1.3228756555323 & 0.0\\\\0.0 & -0.755928946018454 & 1.8516401995451\\end{matrix}\\right]$"
      ],
      "text/plain": [
       "Matrix([\n",
       "[2.0,                0.0,             0.0],\n",
       "[1.5,    1.3228756555323,             0.0],\n",
       "[0.0, -0.755928946018454, 1.8516401995451]])"
      ]
     },
     "metadata": {},
     "execution_count": 43
    }
   ],
   "metadata": {}
  },
  {
   "cell_type": "markdown",
   "source": [
    "### Comprobar si la descomposición se hizo bien."
   ],
   "metadata": {}
  },
  {
   "cell_type": "code",
   "execution_count": 44,
   "source": [
    "LT = L.T.conj()  # matriz traspuesta\r\n",
    "sym.Matrix(LT)\r\n",
    "\r\n",
    "# L*LT = A\r\n",
    "A_cholesky = np.dot(L, LT)  # debe dar la matriz original A\r\n",
    "sym.Matrix(A_cholesky)"
   ],
   "outputs": [
    {
     "output_type": "execute_result",
     "data": {
      "text/latex": [
       "$\\displaystyle \\left[\\begin{matrix}4.0 & 3.0 & 0.0\\\\3.0 & 4.0 & -1.0\\\\0.0 & -1.0 & 4.0\\end{matrix}\\right]$"
      ],
      "text/plain": [
       "Matrix([\n",
       "[4.0,  3.0,  0.0],\n",
       "[3.0,  4.0, -1.0],\n",
       "[0.0, -1.0,  4.0]])"
      ]
     },
     "metadata": {},
     "execution_count": 44
    }
   ],
   "metadata": {}
  },
  {
   "cell_type": "markdown",
   "source": [
    "### Como podemos ver el A_cholesky es el mismo que A por lo que la descomposición fue correcta"
   ],
   "metadata": {}
  },
  {
   "cell_type": "markdown",
   "source": [
    "### Ahora procedemos a solucionar el sistema con la descomposición obtenida de cholesky"
   ],
   "metadata": {}
  },
  {
   "cell_type": "code",
   "execution_count": 45,
   "source": [
    "# Solución del sistema con el resultado de la decomposición\r\n",
    "# L Y = B\r\n",
    "y = forward_substitution(L, b)\r\n",
    "\r\n",
    "# x = LT*y (solución del sistema)\r\n",
    "x = np.linalg.solve(LT, y)\r\n",
    "sym.Matrix(x)"
   ],
   "outputs": [
    {
     "output_type": "execute_result",
     "data": {
      "text/latex": [
       "$\\displaystyle \\left[\\begin{matrix}0.499\\\\-0.580666666666667\\\\0.599333333333333\\end{matrix}\\right]$"
      ],
      "text/plain": [
       "Matrix([\n",
       "[             0.499],\n",
       "[-0.580666666666667],\n",
       "[ 0.599333333333333]])"
      ]
     },
     "metadata": {},
     "execution_count": 45
    }
   ],
   "metadata": {}
  },
  {
   "cell_type": "markdown",
   "source": [
    "### Usamos otra función para resolver la matriz y si el resultado obtenido es igual al dado anteriormente significa que la solución del sistema fue correcta."
   ],
   "metadata": {}
  },
  {
   "cell_type": "code",
   "execution_count": 46,
   "source": [
    "check_x = sla.solve(A, b)\r\n",
    "sym.Matrix(check_x)"
   ],
   "outputs": [
    {
     "output_type": "execute_result",
     "data": {
      "text/latex": [
       "$\\displaystyle \\left[\\begin{matrix}0.499\\\\-0.580666666666667\\\\0.599333333333333\\end{matrix}\\right]$"
      ],
      "text/plain": [
       "Matrix([\n",
       "[             0.499],\n",
       "[-0.580666666666667],\n",
       "[ 0.599333333333333]])"
      ]
     },
     "metadata": {},
     "execution_count": 46
    }
   ],
   "metadata": {}
  }
 ],
 "metadata": {
  "orig_nbformat": 4,
  "language_info": {
   "name": "python",
   "version": "3.9.4",
   "mimetype": "text/x-python",
   "codemirror_mode": {
    "name": "ipython",
    "version": 3
   },
   "pygments_lexer": "ipython3",
   "nbconvert_exporter": "python",
   "file_extension": ".py"
  },
  "kernelspec": {
   "name": "python3",
   "display_name": "Python 3.9.4 64-bit"
  },
  "interpreter": {
   "hash": "7bfa93c4e636a5a625379eff0a239c64974d99f59f76c96838852984426a1d79"
  }
 },
 "nbformat": 4,
 "nbformat_minor": 2
}