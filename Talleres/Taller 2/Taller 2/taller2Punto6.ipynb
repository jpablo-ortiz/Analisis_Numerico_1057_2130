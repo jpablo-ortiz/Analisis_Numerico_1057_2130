{
 "cells": [
  {
   "cell_type": "code",
   "execution_count": 13,
   "id": "6785d92c",
   "metadata": {},
   "outputs": [],
   "source": [
    "import numpy as np\n",
    "import pandas as pd\n",
    "\n",
    "\n",
    "def jacobi(A, b, tol, its, x0):\n",
    "    D = np.diag(np.diag(A))\n",
    "    LU = A - D\n",
    "    iters = []\n",
    "    xs = []\n",
    "    x = x0\n",
    "    for i in range (1, its):\n",
    "        xs.append(x)\n",
    "        iters.append(i)\n",
    "        inv = np.linalg.inv(D)\n",
    "        x0 = x\n",
    "        x = np.dot(inv, b)-np.dot(inv, (np.dot(LU, x)))\n",
    "        if np.linalg.norm(x - x0) < tol:\n",
    "            return x, i, iters, xs\n",
    "    return x, i, iters, xs\n",
    "        "
   ]
  },
  {
   "cell_type": "code",
   "execution_count": 14,
   "id": "e2a65df4",
   "metadata": {},
   "outputs": [],
   "source": [
    "def gaussSeidel(A, b, tol, its, x0):\n",
    "   \n",
    "    iteraciones = 1\n",
    "    x = x0\n",
    "    n = 3\n",
    "    m = 3\n",
    "    dif = np.ones(n, dtype = float)\n",
    "    err = 2*tol\n",
    "    for k in range (its):\n",
    "        for i in range (n):\n",
    "            suma = 0\n",
    "            for j in range (n):\n",
    "                    if j != i:\n",
    "                        suma = suma + A[i][j]*x[j]\n",
    "            x1 = (b[i] - suma)/A[i][i]\n",
    "            dif[i] = abs(x1 - x[i])\n",
    "            x[i] = x1\n",
    "        err = np.max(dif)\n",
    "        iters.append(iteraciones)\n",
    "        iteraciones += 1\n",
    "        if err < tol:\n",
    "            return x, iteraciones\n",
    "    return x, iteraciones"
   ]
  },
  {
   "cell_type": "code",
   "execution_count": 15,
   "id": "52a7c8b4",
   "metadata": {},
   "outputs": [],
   "source": [
    "#Se definen Alfa y Beta de tal forma que cumpla con que la matriz es diagonalmente dominante, de tal forma que ambos métodos convergen.\n",
    "#Para este caso se define Alfa = 3 tal que sea mayor que abs(-1)+abs(1) = 2 y Beta = 0 tal que abs(Beta)+abs(-1) sea menor que abs(2)\n",
    "alfa = 3\n",
    "beta = 0\n",
    "A = np.array([[2, 0, -1], [beta, 2, -1], [-1, 1, alfa]])\n",
    "a = np.array([1, 2, 1])\n",
    "\n",
    "D = np.diag(np.diag(A))\n",
    "LU = A - D\n",
    "#Matriz T\n",
    "T = np.dot(np.linalg.inv(D), -LU)\n",
    "vals = np.linalg.eig(T)\n",
    "valProps = vals[0]\n"
   ]
  },
  {
   "cell_type": "code",
   "execution_count": 16,
   "id": "b6ca8161",
   "metadata": {},
   "outputs": [
    {
     "name": "stdout",
     "output_type": "stream",
     "text": [
      "Solucion con Jacobi:  [0.58333333 1.08333333 0.16666667]\n",
      "Iteraciones:  4\n",
      "Solucion con Gauss-Seidel:  [0.58333333 1.08333333 0.16666667]\n",
      "Iteraciones:  4\n",
      "Solucion con numpy:  [0.58333333 1.08333333 0.16666667]\n",
      "\n",
      "Tabla metodo Jacobi con x0 = [1, 2, 3]:\n",
      "   Iteracion                                           Vector x\n",
      "0          1                                          [1, 2, 3]\n",
      "1          2                                    [2.0, 2.5, 0.0]\n",
      "2          3                    [0.5, 1.0, 0.16666666666666666]\n",
      "3          4  [0.5833333333333334, 1.0833333333333333, 0.166...\n"
     ]
    }
   ],
   "source": [
    "#Se verifica si el método converge por el teorema de convergencia\n",
    "for v in valProps:\n",
    "    if abs(v) >= 1:\n",
    "        print(\"La solucion no converge\")\n",
    "        break\n",
    "x0 = np.zeros(3)\n",
    "x, i, iters, sols = jacobi(A, a, 1e-10, 500, x0)\n",
    "y, iteraciones = gaussSeidel(A, a, 1e-10, 500, x0)\n",
    "print(\"Solucion con Jacobi: \", x)\n",
    "print(\"Iteraciones: \", i)\n",
    "print(\"Solucion con Gauss-Seidel: \", y)\n",
    "print(\"Iteraciones: \", iteraciones)\n",
    "print(\"Solucion con numpy: \", np.linalg.solve(A, a))\n",
    "x0 = np.array([1, 2, 3])\n",
    "x, i, iters, sols = jacobi(A, a, 1e-10, 500, x0)\n",
    "print()\n",
    "print(\"Tabla metodo Jacobi con x0 = [1, 2, 3]:\")\n",
    "df = pd.DataFrame()\n",
    "df[\"Iteracion\"] = iters\n",
    "df[\"Vector x\"] = sols\n",
    "print(df)"
   ]
  },
  {
   "cell_type": "code",
   "execution_count": null,
   "id": "6e7806a3",
   "metadata": {},
   "outputs": [],
   "source": []
  },
  {
   "cell_type": "code",
   "execution_count": null,
   "id": "89f86492",
   "metadata": {},
   "outputs": [],
   "source": []
  }
 ],
 "metadata": {
  "kernelspec": {
   "display_name": "Python 3",
   "language": "python",
   "name": "python3"
  },
  "language_info": {
   "codemirror_mode": {
    "name": "ipython",
    "version": 3
   },
   "file_extension": ".py",
   "mimetype": "text/x-python",
   "name": "python",
   "nbconvert_exporter": "python",
   "pygments_lexer": "ipython3",
   "version": "3.6.13"
  }
 },
 "nbformat": 4,
 "nbformat_minor": 5
}
