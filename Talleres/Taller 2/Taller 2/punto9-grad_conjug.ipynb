{
 "cells": [
  {
   "cell_type": "markdown",
   "source": [
    "El método del gradiente conjugado es un algoritmo para la solución numérica de determinados sistemas de ecuaciones lineales, concretamente aquellos cuya matriz es definida y positiva. El método del gradiente conjugado suele implementarse como un algoritmo iterativo, aplicable a sistemas dispersos que son demasiado grandes para ser tratados por una implementación directa u otros métodos directos como la descomposición de Cholesky. Los sistemas dispersos grandes suelen surgir al resolver numéricamente ecuaciones diferenciales parciales o problemas de optimización."
   ],
   "metadata": {}
  },
  {
   "cell_type": "code",
   "execution_count": 148,
   "source": [
    "import numpy as np\r\n",
    "from scipy.sparse.linalg import cg\r\n",
    "import scipy.sparse as spy\r\n",
    "import time\r\n",
    "\r\n",
    "def conjgrad(A, b, x):\r\n",
    "    r = b - A.dot(x)\r\n",
    "    p = r\r\n",
    "    rsold = np.dot(np.transpose(r), r)\r\n",
    "    \r\n",
    "    for i in range(len(b)):\r\n",
    "        Ap = np.dot(A, p)\r\n",
    "        alpha = rsold / np.dot(np.transpose(p), Ap)\r\n",
    "        x = x + alpha * p\r\n",
    "        r = r - alpha * Ap\r\n",
    "        rsnew = np.dot(np.transpose(r), r)\r\n",
    "        if np.sqrt(rsnew) < 1e-10:\r\n",
    "            break\r\n",
    "        p = r + (rsnew/rsold)*p\r\n",
    "        rsold = rsnew\r\n",
    "    return x"
   ],
   "outputs": [],
   "metadata": {}
  },
  {
   "cell_type": "code",
   "execution_count": 149,
   "source": [
    "a = np.array([[1,1/2,1/3],[1/2,1/3,1/4],[1/3,1/4,1/5]],dtype=float)\r\n",
    "b = np.array([[10],[20],[30]],dtype=float)\r\n",
    "x = np.ones((a.shape[0], 1))\r\n",
    "\r\n",
    "t1= time.time()\r\n",
    "conjgrad(a,b,x)         # Método propio\r\n",
    "t2= time.time()\r\n",
    "print(\"Tiempo con método propio: \",t2 - t1)\r\n",
    "np.linalg.solve(a,b)        # Solución con Numpy\r\n",
    "t3= time.time()\r\n",
    "print(\"Tiempo con Numpy: \",t3 - t2)\r\n",
    "cg(a,b)         # Solución con Scipy\r\n",
    "t4= time.time()\r\n",
    "print(\"Tiempo con Scipy: \",t4 - t3)"
   ],
   "outputs": [
    {
     "output_type": "stream",
     "name": "stdout",
     "text": [
      "Tiempo con método propio:  0.0002911090850830078\n",
      "Tiempo con Numpy:  0.0003540515899658203\n",
      "Tiempo con Scipy:  0.0006136894226074219\n"
     ]
    }
   ],
   "metadata": {}
  },
  {
   "cell_type": "code",
   "execution_count": 150,
   "source": [
    "n=100\r\n",
    "a = spy.rand(n,n,density=0.5).toarray() # 50% de la matriz dispersa con ceros\r\n",
    "b = np.ones((a.shape[0], 1))    # Se llena el arreglo con unos\r\n",
    "x = np.ones((a.shape[0], 1))    # Se llena el arreglo con unos\r\n",
    "\r\n",
    "t1= time.time()\r\n",
    "conjgrad(a,b,x)     # Método propio\r\n",
    "t2= time.time()\r\n",
    "print(\"Tiempo con método propio: \",t2 - t1)\r\n",
    "np.linalg.solve(a,b)        # Solución con Numpy\r\n",
    "t3= time.time()\r\n",
    "print(\"Tiempo con Numpy: \",t3 - t2)\r\n",
    "cg(a,b)         # Solución con Scipy\r\n",
    "t4= time.time()\r\n",
    "print(\"Tiempo con Scipy: \",t4 - t3)"
   ],
   "outputs": [
    {
     "output_type": "stream",
     "name": "stdout",
     "text": [
      "Tiempo con método propio:  0.004247188568115234\n",
      "Tiempo con Numpy:  0.0006756782531738281\n",
      "Tiempo con Scipy:  0.07390213012695312\n"
     ]
    }
   ],
   "metadata": {}
  }
 ],
 "metadata": {
  "orig_nbformat": 4,
  "language_info": {
   "name": "python",
   "version": "3.9.4",
   "mimetype": "text/x-python",
   "codemirror_mode": {
    "name": "ipython",
    "version": 3
   },
   "pygments_lexer": "ipython3",
   "nbconvert_exporter": "python",
   "file_extension": ".py"
  },
  "kernelspec": {
   "name": "python3",
   "display_name": "Python 3.9.4 64-bit"
  },
  "interpreter": {
   "hash": "7bfa93c4e636a5a625379eff0a239c64974d99f59f76c96838852984426a1d79"
  }
 },
 "nbformat": 4,
 "nbformat_minor": 2
}