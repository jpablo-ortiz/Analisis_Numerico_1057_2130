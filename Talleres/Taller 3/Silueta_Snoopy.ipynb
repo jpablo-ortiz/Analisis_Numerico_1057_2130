{
 "cells": [
  {
   "cell_type": "code",
   "execution_count": 50,
   "metadata": {},
   "outputs": [],
   "source": [
    "import matplotlib.pyplot as plt\n",
    "import numpy as np\n",
    "from scipy import interpolate as intp\n",
    "from scipy.interpolate import interp1d, Rbf"
   ]
  },
  {
   "cell_type": "code",
   "execution_count": 51,
   "metadata": {},
   "outputs": [],
   "source": [
    "def graficarCurva(x, y, ax):\n",
    "    cantidadDatosEntreRangoX = np.linspace(start=min(x), stop=max(x), num=100)\n",
    "    interpY = intp.interp1d(x, y, kind='cubic')\n",
    "    rbf_interp = Rbf(x, y, function='multiquadric')\n",
    "\n",
    "\n",
    "    #plt.plot(x, y, 'o', cantidadDatosEntreRangoX, interpY(cantidadDatosEntreRangoX), '-', color='red')\n",
    "    ax.plot(x, y, 'o', cantidadDatosEntreRangoX, interpY(cantidadDatosEntreRangoX), '-', color='red')\n",
    "\n",
    "def graficarCurvaSinPuntos(x, y, ax):\n",
    "    cantidadDatosEntreRangoX = np.linspace(start=min(x), stop=max(x), num=100)\n",
    "    interpY = intp.interp1d(x, y, kind='cubic')\n",
    "    rbf_interp = Rbf(x, y, function='thin_plate')\n",
    "\n",
    "    ax.plot(cantidadDatosEntreRangoX, rbf_interp(cantidadDatosEntreRangoX), '-', color='red')\n",
    "\n",
    "def grafizcarLinea(x, y):\n",
    "    plt.plot(x, y, 'o', x, y, ' ', color='red')\n",
    "\n",
    "def graficarLineaSinPuntos(x, y):\n",
    "    plt.plot(x, y, ' ', color='red')\n",
    "\n",
    "def mostrarDibujoSinPuntos():    \n",
    "    fig = plt.figure(figsize=(8, 8))\n",
    "    ax = fig.add_subplot(1, 1, 1, aspect=1.5)\n",
    "\n",
    "    xCurva1 = np.array([1, 2, 5, 6, 7, 8, 10, 13, 17])\n",
    "    yCurva1 = np.array([3.0, 3.7, 3.9, 4.2, 5.7, 6.6, 7.1, 6.7, 4.5])\n",
    "    graficarCurvaSinPuntos(xCurva1, yCurva1, ax)\n",
    "\n",
    "    xCurva2 = np.array([17, 20, 23, 24, 25, 27, 27.7])\n",
    "    yCurva2 = np.array([4.5, 7.0, 6.1, 5.6, 5.8, 5.2, 4.1])\n",
    "    graficarCurvaSinPuntos(xCurva2, yCurva2, ax)\n",
    "    \n",
    "    xCurva3 = np.array([27.7, 28, 29, 30])\n",
    "    yCurva3 = np.array([4.1, 4.3, 4.1, 3.0])\n",
    "    graficarCurvaSinPuntos(xCurva3, yCurva3, ax)\n",
    "\n",
    "    plt.show()\n",
    "\n",
    "\n",
    "def mostrarDibujo():\n",
    "    fig = plt.figure(figsize=(8, 8))\n",
    "    ax = fig.add_subplot(1, 1, 1, aspect=1.5)\n",
    "\n",
    "    xCurva1 = np.array([1, 2, 5, 6, 7, 8, 10, 13, 17])\n",
    "    yCurva1 = np.array([3.0, 3.7, 3.9, 4.2, 5.7, 6.6, 7.1, 6.7, 4.5])\n",
    "    graficarCurva(xCurva1, yCurva1, ax)\n",
    "\n",
    "    xCurva2 = np.array([17, 20, 23, 24, 25, 27, 27.7])\n",
    "    yCurva2 = np.array([4.5, 7.0, 6.1, 5.6, 5.8, 5.2, 4.1])\n",
    "    graficarCurva(xCurva2, yCurva2, ax)\n",
    "    \n",
    "    xCurva3 = np.array([27.7, 28, 29, 30])\n",
    "    yCurva3 = np.array([4.1, 4.3, 4.1, 3.0])\n",
    "    graficarCurva(xCurva3, yCurva3, ax)\n",
    "\n",
    "    plt.show()"
   ]
  },
  {
   "cell_type": "code",
   "execution_count": 52,
   "metadata": {},
   "outputs": [
    {
     "data": {
      "image/png": "[encoded data removed]",
      "text/plain": [
       "<Figure size 576x576 with 1 Axes>"
      ]
     },
     "metadata": {
      "needs_background": "light"
     },
     "output_type": "display_data"
    }
   ],
   "source": [
    "mostrarDibujoSinPuntos()"
   ]
  },
  {
   "cell_type": "code",
   "execution_count": 53,
   "metadata": {},
   "outputs": [
    {
     "data": {
      "image/png": "[encoded data removed]",
      "text/plain": [
       "<Figure size 576x576 with 1 Axes>"
      ]
     },
     "metadata": {
      "needs_background": "light"
     },
     "output_type": "display_data"
    }
   ],
   "source": [
    "mostrarDibujo()"
   ]
  }
 ],
 "metadata": {
  "interpreter": {
   "hash": "7bfa93c4e636a5a625379eff0a239c64974d99f59f76c96838852984426a1d79"
  },
  "kernelspec": {
   "display_name": "Python 3.9.4 64-bit",
   "name": "python3"
  },
  "language_info": {
   "codemirror_mode": {
    "name": "ipython",
    "version": 3
   },
   "file_extension": ".py",
   "mimetype": "text/x-python",
   "name": "python",
   "nbconvert_exporter": "python",
   "pygments_lexer": "ipython3",
   "version": "3.9.4"
  },
  "orig_nbformat": 4
 },
 "nbformat": 4,
 "nbformat_minor": 2
}
