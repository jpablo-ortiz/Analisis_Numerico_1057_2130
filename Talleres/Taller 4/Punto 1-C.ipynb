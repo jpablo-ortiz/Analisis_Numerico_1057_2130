{
 "cells": [
  {
   "cell_type": "code",
   "execution_count": 16,
   "metadata": {},
   "outputs": [],
   "source": [
    "from scipy import integrate, interpolate"
   ]
  },
  {
   "cell_type": "markdown",
   "metadata": {},
   "source": [
    "# Puntos del ejercicio"
   ]
  },
  {
   "cell_type": "code",
   "execution_count": 17,
   "metadata": {},
   "outputs": [],
   "source": [
    "x = (0.1, 0.2, 0.3, 0.4, 0.5)\n",
    "y = (1.8, 2.6, 3.0, 2.8, 1.9)"
   ]
  },
  {
   "cell_type": "markdown",
   "metadata": {},
   "source": [
    "# Resultado usando librería scipy"
   ]
  },
  {
   "cell_type": "code",
   "execution_count": 18,
   "metadata": {},
   "outputs": [
    {
     "name": "stdout",
     "output_type": "stream",
     "text": [
      "Resultado de la integral usando librería de scipy función simpson: 1.043333333333333\n",
      "Error de truncamiento: -0.000222222222222\n"
     ]
    }
   ],
   "source": [
    "\n",
    "\n",
    "res_simpson = integrate.simpson(y, x)\n",
    "error_trunc = -( (max(x) - min(x)) / (180) ) * min(x)\n",
    "\n",
    "print(\"Resultado de la integral usando librería de scipy función simpson: {:.15f}\".format(res_simpson))\n",
    "print(\"Error de truncamiento: {:.15f}\".format(error_trunc))"
   ]
  },
  {
   "cell_type": "markdown",
   "metadata": {},
   "source": [
    "# Resultado"
   ]
  },
  {
   "cell_type": "markdown",
   "metadata": {},
   "source": [
    "### Usando directamente los mismos puntos X"
   ]
  },
  {
   "cell_type": "code",
   "execution_count": 19,
   "metadata": {},
   "outputs": [
    {
     "name": "stdout",
     "output_type": "stream",
     "text": [
      "Resultado de la integral usando interpolación lagrange: 1.043333333333306\n",
      "Error: 0.000000000000028\n"
     ]
    }
   ],
   "source": [
    "interp_lagrange = interpolate.lagrange(x, y)\n",
    "res_lagrange = integrate.simpson(interp_lagrange(x), x)\n",
    "\n",
    "error = res_simpson - res_lagrange\n",
    "\n",
    "print(\"Resultado de la integral usando interpolación lagrange: {:.15f}\".format(res_lagrange))\n",
    "print(\"Error: {:.15f}\".format(error))\n"
   ]
  },
  {
   "cell_type": "markdown",
   "metadata": {},
   "source": [
    "### Usando un espacio mayor de X"
   ]
  },
  {
   "cell_type": "code",
   "execution_count": 20,
   "metadata": {},
   "outputs": [
    {
     "name": "stdout",
     "output_type": "stream",
     "text": [
      "Resultado de la integral usando interpolación lagrange: 1.043110885045954\n",
      "Error: 0.000222448287380\n"
     ]
    }
   ],
   "source": [
    "import numpy as np\n",
    "interp_lagrange = interpolate.lagrange(x, y)\n",
    "\n",
    "espacio_x = np.linspace(min(x), max(x), 100)\n",
    "\n",
    "res_lagrange = integrate.simpson(interp_lagrange(espacio_x), espacio_x)\n",
    "\n",
    "error = res_simpson - res_lagrange\n",
    "\n",
    "print(\"Resultado de la integral usando interpolación lagrange: {:.15f}\".format(res_lagrange))\n",
    "print(\"Error: {:.15f}\".format(error))"
   ]
  }
 ],
 "metadata": {
  "interpreter": {
   "hash": "7bfa93c4e636a5a625379eff0a239c64974d99f59f76c96838852984426a1d79"
  },
  "kernelspec": {
   "display_name": "Python 3.9.4 64-bit",
   "name": "python3"
  },
  "language_info": {
   "codemirror_mode": {
    "name": "ipython",
    "version": 3
   },
   "file_extension": ".py",
   "mimetype": "text/x-python",
   "name": "python",
   "nbconvert_exporter": "python",
   "pygments_lexer": "ipython3",
   "version": "3.9.4"
  },
  "orig_nbformat": 4
 },
 "nbformat": 4,
 "nbformat_minor": 2
}
