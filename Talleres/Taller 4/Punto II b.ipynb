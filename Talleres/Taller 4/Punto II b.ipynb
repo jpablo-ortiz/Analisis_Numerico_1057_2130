{
 "cells": [
  {
   "cell_type": "markdown",
   "metadata": {},
   "source": [
    "## Imports"
   ]
  },
  {
   "cell_type": "code",
   "execution_count": 82,
   "metadata": {},
   "outputs": [],
   "source": [
    "import sympy as sy\n",
    "import math\n",
    "\n",
    "sy.init_printing(use_latex='mathjax')"
   ]
  },
  {
   "cell_type": "markdown",
   "metadata": {},
   "source": [
    "## Valores del problema"
   ]
  },
  {
   "cell_type": "code",
   "execution_count": 83,
   "metadata": {},
   "outputs": [],
   "source": [
    "t_valores = [0.4, 0.01, 1.55]"
   ]
  },
  {
   "cell_type": "code",
   "execution_count": 84,
   "metadata": {},
   "outputs": [],
   "source": [
    "t = sy.Symbol('t')\n",
    "y = sy.Function('y')(t)\n",
    "f = (t * sy.exp(3*t)) - (40 * (y))\n",
    "#f = (t * sy.exp(3*t)) - (40)\n",
    "equation = sy.Eq(y.diff(t), f)"
   ]
  },
  {
   "cell_type": "markdown",
   "metadata": {},
   "source": [
    "## Implementación"
   ]
  },
  {
   "cell_type": "code",
   "execution_count": 85,
   "metadata": {},
   "outputs": [],
   "source": [
    "def taylor(function, t0, n):\n",
    "    i = 0\n",
    "    polinomio = 0\n",
    "    while i <= n:\n",
    "        polinomio = polinomio + ( function.diff(t, i).subs(t, t0) ) / ( math.factorial(i)) * (t-t0)**i\n",
    "        i += 1\n",
    "    return polinomio\n",
    "\n",
    "taylor = taylor(f, 0, 4)\n",
    "y = sy.simplify(taylor)"
   ]
  },
  {
   "cell_type": "markdown",
   "metadata": {},
   "source": [
    "# Resultados"
   ]
  },
  {
   "cell_type": "markdown",
   "metadata": {},
   "source": [
    "### Función de Taylor grado 4 simplificada"
   ]
  },
  {
   "cell_type": "code",
   "execution_count": 86,
   "metadata": {},
   "outputs": [
    {
     "data": {
      "text/latex": [
       "$\\displaystyle \\frac{t^{4} \\left(27 - 10 \\left. \\frac{d^{4}}{d t^{4}} y{\\left(t \\right)} \\right|_{\\substack{ t=0 }}\\right)}{6} + \\frac{t^{3} \\left(27 - 40 \\left. \\frac{d^{3}}{d t^{3}} y{\\left(t \\right)} \\right|_{\\substack{ t=0 }}\\right)}{6} + t^{2} \\left(3 - 20 \\left. \\frac{d^{2}}{d t^{2}} y{\\left(t \\right)} \\right|_{\\substack{ t=0 }}\\right) - t \\left(40 \\left. \\frac{d}{d t} y{\\left(t \\right)} \\right|_{\\substack{ t=0 }} - 1\\right) - 40 y{\\left(0 \\right)}$"
      ],
      "text/plain": [
       "   ⎛        ⎛  4      ⎞│   ⎞      ⎛        ⎛  3      ⎞│   ⎞                   \n",
       " 4 ⎜        ⎜ d       ⎟│   ⎟    3 ⎜        ⎜ d       ⎟│   ⎟                   \n",
       "t ⋅⎜27 - 10⋅⎜───(y(t))⎟│   ⎟   t ⋅⎜27 - 40⋅⎜───(y(t))⎟│   ⎟                   \n",
       "   ⎜        ⎜  4      ⎟│   ⎟      ⎜        ⎜  3      ⎟│   ⎟      ⎛       ⎛  2 \n",
       "   ⎝        ⎝dt       ⎠│t=0⎠      ⎝        ⎝dt       ⎠│t=0⎠    2 ⎜       ⎜ d  \n",
       "──────────────────────────── + ──────────────────────────── + t ⋅⎜3 - 20⋅⎜───(\n",
       "             6                              6                    ⎜       ⎜  2 \n",
       "                                                                 ⎝       ⎝dt  \n",
       "\n",
       "                                                 \n",
       "                                                 \n",
       "                                                 \n",
       "     ⎞│   ⎞                                      \n",
       "     ⎟│   ⎟     ⎛   ⎛d       ⎞│       ⎞          \n",
       "y(t))⎟│   ⎟ - t⋅⎜40⋅⎜──(y(t))⎟│    - 1⎟ - 40⋅y(0)\n",
       "     ⎟│   ⎟     ⎝   ⎝dt      ⎠│t=0    ⎠          \n",
       "     ⎠│t=0⎠                                      "
      ]
     },
     "execution_count": 86,
     "metadata": {},
     "output_type": "execute_result"
    }
   ],
   "source": [
    "y"
   ]
  },
  {
   "cell_type": "code",
   "execution_count": null,
   "metadata": {},
   "outputs": [],
   "source": [
    "f.subs(t,1)"
   ]
  },
  {
   "cell_type": "markdown",
   "metadata": {},
   "source": [
    "## Valor t = 0.4"
   ]
  },
  {
   "cell_type": "code",
   "execution_count": 88,
   "metadata": {},
   "outputs": [],
   "source": [
    "valor = t_valores[0]\n",
    "aprox = y.subs(t,valor)\n",
    "error = abs(f.subs(t,valor)-y.subs(t,valor))"
   ]
  },
  {
   "cell_type": "code",
   "execution_count": 89,
   "metadata": {},
   "outputs": [
    {
     "data": {
      "text/latex": [
       "$\\displaystyle - 40 y{\\left(0 \\right)} - 16.0 \\left. \\frac{d}{d t} y{\\left(t \\right)} \\right|_{\\substack{ t=0 }} - 3.2 \\left. \\frac{d^{2}}{d t^{2}} y{\\left(t \\right)} \\right|_{\\substack{ t=0 }} - 0.426666666666667 \\left. \\frac{d^{3}}{d t^{3}} y{\\left(t \\right)} \\right|_{\\substack{ t=0 }} - 0.0426666666666667 \\left. \\frac{d^{4}}{d t^{4}} y{\\left(t \\right)} \\right|_{\\substack{ t=0 }} + 1.2832$"
      ],
      "text/plain": [
       "                                     ⎛  2      ⎞│                        ⎛  3 \n",
       "                ⎛d       ⎞│          ⎜ d       ⎟│                        ⎜ d  \n",
       "-40⋅y(0) - 16.0⋅⎜──(y(t))⎟│    - 3.2⋅⎜───(y(t))⎟│    - 0.426666666666667⋅⎜───(\n",
       "                ⎝dt      ⎠│t=0       ⎜  2      ⎟│                        ⎜  3 \n",
       "                                     ⎝dt       ⎠│t=0                     ⎝dt  \n",
       "\n",
       "     ⎞│                         ⎛  4      ⎞│            \n",
       "     ⎟│                         ⎜ d       ⎟│            \n",
       "y(t))⎟│    - 0.0426666666666667⋅⎜───(y(t))⎟│    + 1.2832\n",
       "     ⎟│                         ⎜  4      ⎟│            \n",
       "     ⎠│t=0                      ⎝dt       ⎠│t=0         "
      ]
     },
     "execution_count": 89,
     "metadata": {},
     "output_type": "execute_result"
    }
   ],
   "source": [
    "aprox"
   ]
  },
  {
   "cell_type": "code",
   "execution_count": 90,
   "metadata": {},
   "outputs": [
    {
     "data": {
      "text/latex": [
       "$\\displaystyle \\left|{40 y{\\left(0 \\right)} - 40 y{\\left(0.4 \\right)} + 16.0 \\left. \\frac{d}{d t} y{\\left(t \\right)} \\right|_{\\substack{ t=0 }} + 3.2 \\left. \\frac{d^{2}}{d t^{2}} y{\\left(t \\right)} \\right|_{\\substack{ t=0 }} + 0.426666666666667 \\left. \\frac{d^{3}}{d t^{3}} y{\\left(t \\right)} \\right|_{\\substack{ t=0 }} + 0.0426666666666667 \\left. \\frac{d^{4}}{d t^{4}} y{\\left(t \\right)} \\right|_{\\substack{ t=0 }} + 0.0448467690946193}\\right|$"
      ],
      "text/plain": [
       "│                                                ⎛  2      ⎞│                 \n",
       "│                           ⎛d       ⎞│          ⎜ d       ⎟│                 \n",
       "│40⋅y(0) - 40⋅y(0.4) + 16.0⋅⎜──(y(t))⎟│    + 3.2⋅⎜───(y(t))⎟│    + 0.426666666\n",
       "│                           ⎝dt      ⎠│t=0       ⎜  2      ⎟│                 \n",
       "│                                                ⎝dt       ⎠│t=0              \n",
       "\n",
       "       ⎛  3      ⎞│                         ⎛  4      ⎞│                      \n",
       "       ⎜ d       ⎟│                         ⎜ d       ⎟│                      \n",
       "666667⋅⎜───(y(t))⎟│    + 0.0426666666666667⋅⎜───(y(t))⎟│    + 0.04484676909461\n",
       "       ⎜  3      ⎟│                         ⎜  4      ⎟│                      \n",
       "       ⎝dt       ⎠│t=0                      ⎝dt       ⎠│t=0                   \n",
       "\n",
       "  │\n",
       "  │\n",
       "93│\n",
       "  │\n",
       "  │"
      ]
     },
     "execution_count": 90,
     "metadata": {},
     "output_type": "execute_result"
    }
   ],
   "source": [
    "error"
   ]
  },
  {
   "cell_type": "markdown",
   "metadata": {},
   "source": [
    "## Valor t = 0.01"
   ]
  },
  {
   "cell_type": "code",
   "execution_count": null,
   "metadata": {},
   "outputs": [],
   "source": [
    "valor = t_valores[1]\n",
    "aprox = y.subs(t,valor)\n",
    "error = abs(f.subs(t,valor)-y.subs(t,valor))"
   ]
  },
  {
   "cell_type": "code",
   "execution_count": null,
   "metadata": {},
   "outputs": [],
   "source": [
    "aprox"
   ]
  },
  {
   "cell_type": "code",
   "execution_count": null,
   "metadata": {},
   "outputs": [],
   "source": [
    "error"
   ]
  },
  {
   "cell_type": "markdown",
   "metadata": {},
   "source": [
    "## Valor t = 1.55"
   ]
  },
  {
   "cell_type": "code",
   "execution_count": null,
   "metadata": {},
   "outputs": [],
   "source": [
    "valor = t_valores[2]\n",
    "aprox = y.subs(t,valor)\n",
    "error = abs(f.subs(t,valor)-y.subs(t,valor))"
   ]
  },
  {
   "cell_type": "code",
   "execution_count": null,
   "metadata": {},
   "outputs": [],
   "source": [
    "aprox"
   ]
  },
  {
   "cell_type": "code",
   "execution_count": null,
   "metadata": {},
   "outputs": [],
   "source": [
    "error"
   ]
  }
 ],
 "metadata": {
  "interpreter": {
   "hash": "7bfa93c4e636a5a625379eff0a239c64974d99f59f76c96838852984426a1d79"
  },
  "kernelspec": {
   "display_name": "Python 3.9.4 64-bit",
   "language": "python",
   "name": "python3"
  },
  "language_info": {
   "codemirror_mode": {
    "name": "ipython",
    "version": 3
   },
   "file_extension": ".py",
   "mimetype": "text/x-python",
   "name": "python",
   "nbconvert_exporter": "python",
   "pygments_lexer": "ipython3",
   "version": "3.9.4"
  },
  "orig_nbformat": 4
 },
 "nbformat": 4,
 "nbformat_minor": 2
}
